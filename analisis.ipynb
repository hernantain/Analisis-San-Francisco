{
 "cells": [
  {
   "cell_type": "markdown",
   "metadata": {},
   "source": [
    "# Análisis Exploratorio: San Francisco Bay Bike Rental\n",
    "\n",
    "https://www.kaggle.com/benhamner/sf-bay-area-bike-share\n",
    "\n",
    "\n",
    "### Aclaración: Todos las imagenes de mapas generadas tienen su respectivo código en nuestro repositorio de github. Al dejar el código generado en este notebook no se podian ver las visualizaciones ni los mapas\n",
    "\n",
    "repositorio: https://github.com/hernantain/Analisis-San-Francisco"
   ]
  },
  {
   "cell_type": "code",
   "execution_count": 1,
   "metadata": {
    "collapsed": false
   },
   "outputs": [],
   "source": [
    "import pandas as pd\n",
    "import seaborn as sns\n",
    "import numpy as np\n",
    "import matplotlib.pyplot as plt\n",
    "from pandas.tseries.holiday import USFederalHolidayCalendar\n",
    "%matplotlib inline"
   ]
  },
  {
   "cell_type": "code",
   "execution_count": 2,
   "metadata": {
    "collapsed": false
   },
   "outputs": [],
   "source": [
    "trip_meta = pd.read_csv('data/trip.csv')\n",
    "weather_meta = pd.read_csv('data/weather.csv')"
   ]
  },
  {
   "cell_type": "code",
   "execution_count": 3,
   "metadata": {
    "collapsed": true
   },
   "outputs": [],
   "source": [
    "pd.options.mode.chained_assignment = None"
   ]
  },
  {
   "cell_type": "markdown",
   "metadata": {},
   "source": [
    "### Convierto las fechas a datetime"
   ]
  },
  {
   "cell_type": "code",
   "execution_count": 4,
   "metadata": {
    "collapsed": false
   },
   "outputs": [
    {
     "ename": "KeyboardInterrupt",
     "evalue": "",
     "output_type": "error",
     "traceback": [
      "\u001b[0;31m---------------------------------------------------------------------------\u001b[0m",
      "\u001b[0;31mValueError\u001b[0m                                Traceback (most recent call last)",
      "\u001b[0;32mpandas/tslib.pyx\u001b[0m in \u001b[0;36mpandas.tslib.array_to_datetime (pandas/tslib.c:44368)\u001b[0;34m()\u001b[0m\n",
      "\u001b[0;32mpandas/src/datetime.pxd\u001b[0m in \u001b[0;36mdatetime._string_to_dts (pandas/tslib.c:95676)\u001b[0;34m()\u001b[0m\n",
      "\u001b[0;31mValueError\u001b[0m: Error parsing datetime string \"2/4/2014 18:35\" at position 1",
      "\nDuring handling of the above exception, another exception occurred:\n",
      "\u001b[0;31mKeyboardInterrupt\u001b[0m                         Traceback (most recent call last)",
      "\u001b[0;32m<ipython-input-4-49a7c13167e2>\u001b[0m in \u001b[0;36m<module>\u001b[0;34m()\u001b[0m\n\u001b[0;32m----> 1\u001b[0;31m \u001b[0mtrip_meta\u001b[0m\u001b[0;34m[\u001b[0m\u001b[0;34m'start_date'\u001b[0m\u001b[0;34m]\u001b[0m \u001b[0;34m=\u001b[0m \u001b[0mpd\u001b[0m\u001b[0;34m.\u001b[0m\u001b[0mto_datetime\u001b[0m\u001b[0;34m(\u001b[0m\u001b[0mtrip_meta\u001b[0m\u001b[0;34m[\u001b[0m\u001b[0;34m'start_date'\u001b[0m\u001b[0;34m]\u001b[0m\u001b[0;34m)\u001b[0m\u001b[0;34m\u001b[0m\u001b[0m\n\u001b[0m",
      "\u001b[0;32m/home/guido/anaconda2/envs/py3/lib/python3.6/site-packages/pandas/util/decorators.py\u001b[0m in \u001b[0;36mwrapper\u001b[0;34m(*args, **kwargs)\u001b[0m\n\u001b[1;32m     89\u001b[0m                 \u001b[0;32melse\u001b[0m\u001b[0;34m:\u001b[0m\u001b[0;34m\u001b[0m\u001b[0m\n\u001b[1;32m     90\u001b[0m                     \u001b[0mkwargs\u001b[0m\u001b[0;34m[\u001b[0m\u001b[0mnew_arg_name\u001b[0m\u001b[0;34m]\u001b[0m \u001b[0;34m=\u001b[0m \u001b[0mnew_arg_value\u001b[0m\u001b[0;34m\u001b[0m\u001b[0m\n\u001b[0;32m---> 91\u001b[0;31m             \u001b[0;32mreturn\u001b[0m \u001b[0mfunc\u001b[0m\u001b[0;34m(\u001b[0m\u001b[0;34m*\u001b[0m\u001b[0margs\u001b[0m\u001b[0;34m,\u001b[0m \u001b[0;34m**\u001b[0m\u001b[0mkwargs\u001b[0m\u001b[0;34m)\u001b[0m\u001b[0;34m\u001b[0m\u001b[0m\n\u001b[0m\u001b[1;32m     92\u001b[0m         \u001b[0;32mreturn\u001b[0m \u001b[0mwrapper\u001b[0m\u001b[0;34m\u001b[0m\u001b[0m\n\u001b[1;32m     93\u001b[0m     \u001b[0;32mreturn\u001b[0m \u001b[0m_deprecate_kwarg\u001b[0m\u001b[0;34m\u001b[0m\u001b[0m\n",
      "\u001b[0;32m/home/guido/anaconda2/envs/py3/lib/python3.6/site-packages/pandas/tseries/tools.py\u001b[0m in \u001b[0;36mto_datetime\u001b[0;34m(arg, errors, dayfirst, yearfirst, utc, box, format, exact, coerce, unit, infer_datetime_format)\u001b[0m\n\u001b[1;32m    419\u001b[0m     \u001b[0;32melif\u001b[0m \u001b[0misinstance\u001b[0m\u001b[0;34m(\u001b[0m\u001b[0marg\u001b[0m\u001b[0;34m,\u001b[0m \u001b[0mABCSeries\u001b[0m\u001b[0;34m)\u001b[0m\u001b[0;34m:\u001b[0m\u001b[0;34m\u001b[0m\u001b[0m\n\u001b[1;32m    420\u001b[0m         \u001b[0;32mfrom\u001b[0m \u001b[0mpandas\u001b[0m \u001b[0;32mimport\u001b[0m \u001b[0mSeries\u001b[0m\u001b[0;34m\u001b[0m\u001b[0m\n\u001b[0;32m--> 421\u001b[0;31m         \u001b[0mvalues\u001b[0m \u001b[0;34m=\u001b[0m \u001b[0m_convert_listlike\u001b[0m\u001b[0;34m(\u001b[0m\u001b[0marg\u001b[0m\u001b[0;34m.\u001b[0m\u001b[0m_values\u001b[0m\u001b[0;34m,\u001b[0m \u001b[0;32mFalse\u001b[0m\u001b[0;34m,\u001b[0m \u001b[0mformat\u001b[0m\u001b[0;34m)\u001b[0m\u001b[0;34m\u001b[0m\u001b[0m\n\u001b[0m\u001b[1;32m    422\u001b[0m         \u001b[0;32mreturn\u001b[0m \u001b[0mSeries\u001b[0m\u001b[0;34m(\u001b[0m\u001b[0mvalues\u001b[0m\u001b[0;34m,\u001b[0m \u001b[0mindex\u001b[0m\u001b[0;34m=\u001b[0m\u001b[0marg\u001b[0m\u001b[0;34m.\u001b[0m\u001b[0mindex\u001b[0m\u001b[0;34m,\u001b[0m \u001b[0mname\u001b[0m\u001b[0;34m=\u001b[0m\u001b[0marg\u001b[0m\u001b[0;34m.\u001b[0m\u001b[0mname\u001b[0m\u001b[0;34m)\u001b[0m\u001b[0;34m\u001b[0m\u001b[0m\n\u001b[1;32m    423\u001b[0m     \u001b[0;32melif\u001b[0m \u001b[0misinstance\u001b[0m\u001b[0;34m(\u001b[0m\u001b[0marg\u001b[0m\u001b[0;34m,\u001b[0m \u001b[0;34m(\u001b[0m\u001b[0mABCDataFrame\u001b[0m\u001b[0;34m,\u001b[0m \u001b[0mMutableMapping\u001b[0m\u001b[0;34m)\u001b[0m\u001b[0;34m)\u001b[0m\u001b[0;34m:\u001b[0m\u001b[0;34m\u001b[0m\u001b[0m\n",
      "\u001b[0;32m/home/guido/anaconda2/envs/py3/lib/python3.6/site-packages/pandas/tseries/tools.py\u001b[0m in \u001b[0;36m_convert_listlike\u001b[0;34m(arg, box, format, name, tz)\u001b[0m\n\u001b[1;32m    399\u001b[0m                     \u001b[0mdayfirst\u001b[0m\u001b[0;34m=\u001b[0m\u001b[0mdayfirst\u001b[0m\u001b[0;34m,\u001b[0m\u001b[0;34m\u001b[0m\u001b[0m\n\u001b[1;32m    400\u001b[0m                     \u001b[0myearfirst\u001b[0m\u001b[0;34m=\u001b[0m\u001b[0myearfirst\u001b[0m\u001b[0;34m,\u001b[0m\u001b[0;34m\u001b[0m\u001b[0m\n\u001b[0;32m--> 401\u001b[0;31m                     \u001b[0mrequire_iso8601\u001b[0m\u001b[0;34m=\u001b[0m\u001b[0mrequire_iso8601\u001b[0m\u001b[0;34m\u001b[0m\u001b[0m\n\u001b[0m\u001b[1;32m    402\u001b[0m                 )\n\u001b[1;32m    403\u001b[0m \u001b[0;34m\u001b[0m\u001b[0m\n",
      "\u001b[0;32mpandas/tslib.pyx\u001b[0m in \u001b[0;36mpandas.tslib.array_to_datetime (pandas/tslib.c:46691)\u001b[0;34m()\u001b[0m\n",
      "\u001b[0;32mpandas/tslib.pyx\u001b[0m in \u001b[0;36mpandas.tslib.array_to_datetime (pandas/tslib.c:44777)\u001b[0;34m()\u001b[0m\n",
      "\u001b[0;32mpandas/tslib.pyx\u001b[0m in \u001b[0;36mpandas.tslib.parse_datetime_string (pandas/tslib.c:35434)\u001b[0;34m()\u001b[0m\n",
      "\u001b[0;32m/home/guido/anaconda2/envs/py3/lib/python3.6/site-packages/dateutil/parser.py\u001b[0m in \u001b[0;36mparse\u001b[0;34m(timestr, parserinfo, **kwargs)\u001b[0m\n\u001b[1;32m   1166\u001b[0m         \u001b[0;32mreturn\u001b[0m \u001b[0mparser\u001b[0m\u001b[0;34m(\u001b[0m\u001b[0mparserinfo\u001b[0m\u001b[0;34m)\u001b[0m\u001b[0;34m.\u001b[0m\u001b[0mparse\u001b[0m\u001b[0;34m(\u001b[0m\u001b[0mtimestr\u001b[0m\u001b[0;34m,\u001b[0m \u001b[0;34m**\u001b[0m\u001b[0mkwargs\u001b[0m\u001b[0;34m)\u001b[0m\u001b[0;34m\u001b[0m\u001b[0m\n\u001b[1;32m   1167\u001b[0m     \u001b[0;32melse\u001b[0m\u001b[0;34m:\u001b[0m\u001b[0;34m\u001b[0m\u001b[0m\n\u001b[0;32m-> 1168\u001b[0;31m         \u001b[0;32mreturn\u001b[0m \u001b[0mDEFAULTPARSER\u001b[0m\u001b[0;34m.\u001b[0m\u001b[0mparse\u001b[0m\u001b[0;34m(\u001b[0m\u001b[0mtimestr\u001b[0m\u001b[0;34m,\u001b[0m \u001b[0;34m**\u001b[0m\u001b[0mkwargs\u001b[0m\u001b[0;34m)\u001b[0m\u001b[0;34m\u001b[0m\u001b[0m\n\u001b[0m\u001b[1;32m   1169\u001b[0m \u001b[0;34m\u001b[0m\u001b[0m\n\u001b[1;32m   1170\u001b[0m \u001b[0;34m\u001b[0m\u001b[0m\n",
      "\u001b[0;32m/home/guido/anaconda2/envs/py3/lib/python3.6/site-packages/dateutil/parser.py\u001b[0m in \u001b[0;36mparse\u001b[0;34m(self, timestr, default, ignoretz, tzinfos, **kwargs)\u001b[0m\n\u001b[1;32m    554\u001b[0m             \u001b[0meffective_dt\u001b[0m \u001b[0;34m=\u001b[0m \u001b[0mdefault\u001b[0m\u001b[0;34m\u001b[0m\u001b[0m\n\u001b[1;32m    555\u001b[0m \u001b[0;34m\u001b[0m\u001b[0m\n\u001b[0;32m--> 556\u001b[0;31m         \u001b[0mres\u001b[0m\u001b[0;34m,\u001b[0m \u001b[0mskipped_tokens\u001b[0m \u001b[0;34m=\u001b[0m \u001b[0mself\u001b[0m\u001b[0;34m.\u001b[0m\u001b[0m_parse\u001b[0m\u001b[0;34m(\u001b[0m\u001b[0mtimestr\u001b[0m\u001b[0;34m,\u001b[0m \u001b[0;34m**\u001b[0m\u001b[0mkwargs\u001b[0m\u001b[0;34m)\u001b[0m\u001b[0;34m\u001b[0m\u001b[0m\n\u001b[0m\u001b[1;32m    557\u001b[0m \u001b[0;34m\u001b[0m\u001b[0m\n\u001b[1;32m    558\u001b[0m         \u001b[0;32mif\u001b[0m \u001b[0mres\u001b[0m \u001b[0;32mis\u001b[0m \u001b[0;32mNone\u001b[0m\u001b[0;34m:\u001b[0m\u001b[0;34m\u001b[0m\u001b[0m\n",
      "\u001b[0;32m/home/guido/anaconda2/envs/py3/lib/python3.6/site-packages/dateutil/parser.py\u001b[0m in \u001b[0;36m_parse\u001b[0;34m(self, timestr, dayfirst, yearfirst, fuzzy, fuzzy_with_tokens)\u001b[0m\n\u001b[1;32m   1043\u001b[0m \u001b[0;34m\u001b[0m\u001b[0m\n\u001b[1;32m   1044\u001b[0m             \u001b[0;31m# Process year/month/day\u001b[0m\u001b[0;34m\u001b[0m\u001b[0;34m\u001b[0m\u001b[0m\n\u001b[0;32m-> 1045\u001b[0;31m             \u001b[0myear\u001b[0m\u001b[0;34m,\u001b[0m \u001b[0mmonth\u001b[0m\u001b[0;34m,\u001b[0m \u001b[0mday\u001b[0m \u001b[0;34m=\u001b[0m \u001b[0mymd\u001b[0m\u001b[0;34m.\u001b[0m\u001b[0mresolve_ymd\u001b[0m\u001b[0;34m(\u001b[0m\u001b[0mmstridx\u001b[0m\u001b[0;34m,\u001b[0m \u001b[0myearfirst\u001b[0m\u001b[0;34m,\u001b[0m \u001b[0mdayfirst\u001b[0m\u001b[0;34m)\u001b[0m\u001b[0;34m\u001b[0m\u001b[0m\n\u001b[0m\u001b[1;32m   1046\u001b[0m             \u001b[0;32mif\u001b[0m \u001b[0myear\u001b[0m \u001b[0;32mis\u001b[0m \u001b[0;32mnot\u001b[0m \u001b[0;32mNone\u001b[0m\u001b[0;34m:\u001b[0m\u001b[0;34m\u001b[0m\u001b[0m\n\u001b[1;32m   1047\u001b[0m                 \u001b[0mres\u001b[0m\u001b[0;34m.\u001b[0m\u001b[0myear\u001b[0m \u001b[0;34m=\u001b[0m \u001b[0myear\u001b[0m\u001b[0;34m\u001b[0m\u001b[0m\n",
      "\u001b[0;32m/home/guido/anaconda2/envs/py3/lib/python3.6/site-packages/dateutil/parser.py\u001b[0m in \u001b[0;36mresolve_ymd\u001b[0;34m(self, mstridx, yearfirst, dayfirst)\u001b[0m\n\u001b[1;32m    466\u001b[0m             \u001b[0;32melse\u001b[0m\u001b[0;34m:\u001b[0m\u001b[0;34m\u001b[0m\u001b[0m\n\u001b[1;32m    467\u001b[0m                 \u001b[0;32mif\u001b[0m \u001b[0mself\u001b[0m\u001b[0;34m[\u001b[0m\u001b[0;36m0\u001b[0m\u001b[0;34m]\u001b[0m \u001b[0;34m>\u001b[0m \u001b[0;36m31\u001b[0m \u001b[0;32mor\u001b[0m\u001b[0;31m \u001b[0m\u001b[0;31m\\\u001b[0m\u001b[0;34m\u001b[0m\u001b[0m\n\u001b[0;32m--> 468\u001b[0;31m                     \u001b[0mself\u001b[0m\u001b[0;34m.\u001b[0m\u001b[0mfind_probable_year_index\u001b[0m\u001b[0;34m(\u001b[0m\u001b[0m_timelex\u001b[0m\u001b[0;34m.\u001b[0m\u001b[0msplit\u001b[0m\u001b[0;34m(\u001b[0m\u001b[0mself\u001b[0m\u001b[0;34m.\u001b[0m\u001b[0mtzstr\u001b[0m\u001b[0;34m)\u001b[0m\u001b[0;34m)\u001b[0m \u001b[0;34m==\u001b[0m \u001b[0;36m0\u001b[0m \u001b[0;32mor\u001b[0m\u001b[0;31m \u001b[0m\u001b[0;31m\\\u001b[0m\u001b[0;34m\u001b[0m\u001b[0m\n\u001b[0m\u001b[1;32m    469\u001b[0m                    \u001b[0;34m(\u001b[0m\u001b[0myearfirst\u001b[0m \u001b[0;32mand\u001b[0m \u001b[0mself\u001b[0m\u001b[0;34m[\u001b[0m\u001b[0;36m1\u001b[0m\u001b[0;34m]\u001b[0m \u001b[0;34m<=\u001b[0m \u001b[0;36m12\u001b[0m \u001b[0;32mand\u001b[0m \u001b[0mself\u001b[0m\u001b[0;34m[\u001b[0m\u001b[0;36m2\u001b[0m\u001b[0;34m]\u001b[0m \u001b[0;34m<=\u001b[0m \u001b[0;36m31\u001b[0m\u001b[0;34m)\u001b[0m\u001b[0;34m:\u001b[0m\u001b[0;34m\u001b[0m\u001b[0m\n\u001b[1;32m    470\u001b[0m                     \u001b[0;31m# 99-01-01\u001b[0m\u001b[0;34m\u001b[0m\u001b[0;34m\u001b[0m\u001b[0m\n",
      "\u001b[0;32m/home/guido/anaconda2/envs/py3/lib/python3.6/site-packages/dateutil/parser.py\u001b[0m in \u001b[0;36msplit\u001b[0;34m(cls, s)\u001b[0m\n\u001b[1;32m    190\u001b[0m     \u001b[0;34m@\u001b[0m\u001b[0mclassmethod\u001b[0m\u001b[0;34m\u001b[0m\u001b[0m\n\u001b[1;32m    191\u001b[0m     \u001b[0;32mdef\u001b[0m \u001b[0msplit\u001b[0m\u001b[0;34m(\u001b[0m\u001b[0mcls\u001b[0m\u001b[0;34m,\u001b[0m \u001b[0ms\u001b[0m\u001b[0;34m)\u001b[0m\u001b[0;34m:\u001b[0m\u001b[0;34m\u001b[0m\u001b[0m\n\u001b[0;32m--> 192\u001b[0;31m         \u001b[0;32mreturn\u001b[0m \u001b[0mlist\u001b[0m\u001b[0;34m(\u001b[0m\u001b[0mcls\u001b[0m\u001b[0;34m(\u001b[0m\u001b[0ms\u001b[0m\u001b[0;34m)\u001b[0m\u001b[0;34m)\u001b[0m\u001b[0;34m\u001b[0m\u001b[0m\n\u001b[0m\u001b[1;32m    193\u001b[0m \u001b[0;34m\u001b[0m\u001b[0m\n\u001b[1;32m    194\u001b[0m     \u001b[0;34m@\u001b[0m\u001b[0mclassmethod\u001b[0m\u001b[0;34m\u001b[0m\u001b[0m\n",
      "\u001b[0;32m/home/guido/anaconda2/envs/py3/lib/python3.6/site-packages/dateutil/parser.py\u001b[0m in \u001b[0;36m__next__\u001b[0;34m(self)\u001b[0m\n\u001b[1;32m    179\u001b[0m \u001b[0;34m\u001b[0m\u001b[0m\n\u001b[1;32m    180\u001b[0m     \u001b[0;32mdef\u001b[0m \u001b[0m__next__\u001b[0m\u001b[0;34m(\u001b[0m\u001b[0mself\u001b[0m\u001b[0;34m)\u001b[0m\u001b[0;34m:\u001b[0m\u001b[0;34m\u001b[0m\u001b[0m\n\u001b[0;32m--> 181\u001b[0;31m         \u001b[0mtoken\u001b[0m \u001b[0;34m=\u001b[0m \u001b[0mself\u001b[0m\u001b[0;34m.\u001b[0m\u001b[0mget_token\u001b[0m\u001b[0;34m(\u001b[0m\u001b[0;34m)\u001b[0m\u001b[0;34m\u001b[0m\u001b[0m\n\u001b[0m\u001b[1;32m    182\u001b[0m         \u001b[0;32mif\u001b[0m \u001b[0mtoken\u001b[0m \u001b[0;32mis\u001b[0m \u001b[0;32mNone\u001b[0m\u001b[0;34m:\u001b[0m\u001b[0;34m\u001b[0m\u001b[0m\n\u001b[1;32m    183\u001b[0m             \u001b[0;32mraise\u001b[0m \u001b[0mStopIteration\u001b[0m\u001b[0;34m\u001b[0m\u001b[0m\n",
      "\u001b[0;32m/home/guido/anaconda2/envs/py3/lib/python3.6/site-packages/dateutil/parser.py\u001b[0m in \u001b[0;36mget_token\u001b[0;34m(self)\u001b[0m\n\u001b[1;32m    162\u001b[0m                     \u001b[0;32mbreak\u001b[0m  \u001b[0;31m# emit token\u001b[0m\u001b[0;34m\u001b[0m\u001b[0m\n\u001b[1;32m    163\u001b[0m \u001b[0;34m\u001b[0m\u001b[0m\n\u001b[0;32m--> 164\u001b[0;31m         if (state in ('a.', '0.') and (seenletters or token.count('.') > 1 or\n\u001b[0m\u001b[1;32m    165\u001b[0m                                        token[-1] in '.,')):\n\u001b[1;32m    166\u001b[0m             \u001b[0ml\u001b[0m \u001b[0;34m=\u001b[0m \u001b[0mself\u001b[0m\u001b[0;34m.\u001b[0m\u001b[0m_split_decimal\u001b[0m\u001b[0;34m.\u001b[0m\u001b[0msplit\u001b[0m\u001b[0;34m(\u001b[0m\u001b[0mtoken\u001b[0m\u001b[0;34m)\u001b[0m\u001b[0;34m\u001b[0m\u001b[0m\n",
      "\u001b[0;31mKeyboardInterrupt\u001b[0m: "
     ]
    }
   ],
   "source": [
    "trip_meta['start_date'] = pd.to_datetime(trip_meta['start_date'])"
   ]
  },
  {
   "cell_type": "code",
   "execution_count": null,
   "metadata": {
    "collapsed": true
   },
   "outputs": [],
   "source": [
    "trip_meta['end_date'] = pd.to_datetime(trip_meta['end_date'])"
   ]
  },
  {
   "cell_type": "code",
   "execution_count": null,
   "metadata": {
    "collapsed": false
   },
   "outputs": [],
   "source": [
    "import datetime\n",
    "from datetime import date,time"
   ]
  },
  {
   "cell_type": "code",
   "execution_count": null,
   "metadata": {
    "collapsed": false
   },
   "outputs": [],
   "source": [
    "#Saco los horarios de las fechas para analizar primero los viajes que son realizados durante el mismo dia\n",
    "trip_meta['start_date2'] = trip_meta.start_date.apply(lambda x: datetime.datetime(x.year, x.month, x.day,0,0))\n",
    "trip_meta['end_date2'] = trip_meta.end_date.apply(lambda x: datetime.datetime(x.year, x.month, x.day,0,0))"
   ]
  },
  {
   "cell_type": "code",
   "execution_count": null,
   "metadata": {
    "collapsed": true
   },
   "outputs": [],
   "source": [
    "#Paso las duraciones de los viajes a minutos\n",
    "trip_meta.duration = trip_meta.duration.apply(lambda x: x/60.0)"
   ]
  },
  {
   "cell_type": "code",
   "execution_count": null,
   "metadata": {
    "collapsed": true
   },
   "outputs": [],
   "source": [
    "trip_meta.rename(columns={'duration':'duration(min)'},inplace=True)"
   ]
  },
  {
   "cell_type": "code",
   "execution_count": null,
   "metadata": {
    "collapsed": false
   },
   "outputs": [],
   "source": [
    "trip_meta.info()"
   ]
  },
  {
   "cell_type": "code",
   "execution_count": null,
   "metadata": {
    "collapsed": true
   },
   "outputs": [],
   "source": [
    "same_day = trip_meta.loc[trip_meta.start_date2 == trip_meta.end_date2,['id','duration(min)','start_date2','end_date2','start_station_name','start_station_id','end_station_name','end_station_id']]"
   ]
  },
  {
   "cell_type": "code",
   "execution_count": null,
   "metadata": {
    "collapsed": false
   },
   "outputs": [],
   "source": [
    "print len(trip_meta) - len(same_day)"
   ]
  },
  {
   "cell_type": "markdown",
   "metadata": {},
   "source": [
    "#### Entendemos que como son 2099 los viajes que empiezan un dia y terminan en otro (insignificativo frente a la enorme cantidad de registros) ante la posibilidad de que haya viajes de mas de un dia, o muy largos preferimos filtrarlos."
   ]
  },
  {
   "cell_type": "code",
   "execution_count": null,
   "metadata": {
    "collapsed": false
   },
   "outputs": [],
   "source": [
    "same_day.info()"
   ]
  },
  {
   "cell_type": "code",
   "execution_count": null,
   "metadata": {
    "collapsed": false
   },
   "outputs": [],
   "source": [
    "same_day.describe()"
   ]
  },
  {
   "cell_type": "markdown",
   "metadata": {},
   "source": [
    "### Filtro los viajes que duran menos de 5 minutos"
   ]
  },
  {
   "cell_type": "code",
   "execution_count": null,
   "metadata": {
    "collapsed": false
   },
   "outputs": [],
   "source": [
    "trips_longer = same_day.loc[same_day['duration(min)'] > 5,:]"
   ]
  },
  {
   "cell_type": "code",
   "execution_count": null,
   "metadata": {
    "collapsed": false
   },
   "outputs": [],
   "source": [
    "trips_longer.info()"
   ]
  },
  {
   "cell_type": "markdown",
   "metadata": {},
   "source": [
    "### Son 125455 los viajes que duran menos de 5 min"
   ]
  },
  {
   "cell_type": "code",
   "execution_count": null,
   "metadata": {
    "collapsed": false,
    "scrolled": true
   },
   "outputs": [],
   "source": [
    "print len(same_day) - len(trips_longer)"
   ]
  },
  {
   "cell_type": "code",
   "execution_count": null,
   "metadata": {
    "collapsed": true
   },
   "outputs": [],
   "source": [
    "# Convierto a datetime la fecha en el DF weather\n",
    "weather_meta['date'] = pd.to_datetime(weather_meta['date'])"
   ]
  },
  {
   "cell_type": "markdown",
   "metadata": {},
   "source": [
    "# Viajes segun las condiciones climaticas"
   ]
  },
  {
   "cell_type": "markdown",
   "metadata": {},
   "source": [
    "## ¿Influye la temperatura en la cantidad de viajes realizados?"
   ]
  },
  {
   "cell_type": "code",
   "execution_count": null,
   "metadata": {
    "collapsed": true
   },
   "outputs": [],
   "source": [
    "temperatures = weather_meta[['date','max_temperature_f','mean_temperature_f','min_temperature_f']]"
   ]
  },
  {
   "cell_type": "code",
   "execution_count": null,
   "metadata": {
    "collapsed": false
   },
   "outputs": [],
   "source": [
    "# Paso la temperatura a Celsius\n",
    "temperatures.max_temperature_f = temperatures.max_temperature_f.apply(lambda x: (x-32) / 1.8)\n",
    "temperatures.mean_temperature_f = temperatures.mean_temperature_f.apply(lambda x: (x-32) / 1.8)\n",
    "temperatures.min_temperature_f = temperatures.min_temperature_f.apply(lambda x: (x-32) / 1.8)"
   ]
  },
  {
   "cell_type": "code",
   "execution_count": null,
   "metadata": {
    "collapsed": false
   },
   "outputs": [],
   "source": [
    "temperatures.rename(\n",
    "    columns={'max_temperature_f':'max_temperature_c','mean_temperature_f':'mean_temperature_c','min_temperature_f':'min_temperature_c'},inplace=True)"
   ]
  },
  {
   "cell_type": "code",
   "execution_count": null,
   "metadata": {
    "collapsed": false
   },
   "outputs": [],
   "source": [
    "temperatures_avg = temperatures.groupby('date').mean()\n",
    "temperatures_avg = pd.DataFrame(temperatures_avg.to_records())"
   ]
  },
  {
   "cell_type": "code",
   "execution_count": null,
   "metadata": {
    "collapsed": false
   },
   "outputs": [],
   "source": [
    "final = trips_longer[['id', 'duration(min)', 'start_date2', 'start_station_name','end_station_name']]\n",
    "final.rename(columns={'start_date2':'date'},inplace=True)"
   ]
  },
  {
   "cell_type": "code",
   "execution_count": null,
   "metadata": {
    "collapsed": false
   },
   "outputs": [],
   "source": [
    "date_duration = final.loc[:,['duration(min)','date']].groupby('date').agg([np.size])\n",
    "date_duration = pd.DataFrame(date_duration.to_records())\n",
    "date_duration.columns=['date','# trips']"
   ]
  },
  {
   "cell_type": "code",
   "execution_count": null,
   "metadata": {
    "collapsed": false
   },
   "outputs": [],
   "source": [
    "duration_temperature = pd.merge(date_duration,temperatures_avg,how='inner',on='date')\n",
    "duration_temperature['weekday'] = duration_temperature.date.apply(lambda x: x.weekday())\n",
    "duration_temperature_weekdays = duration_temperature\\\n",
    "                        .loc[(duration_temperature.weekday != 5) & (duration_temperature.weekday != 6),:]\n",
    "\n",
    "duration_temperature_weekdays = duration_temperature_weekdays\\\n",
    "                        [['# trips','date','max_temperature_c','mean_temperature_c','min_temperature_c']]\n",
    "    \n",
    "trips_temperature = duration_temperature_weekdays.\\\n",
    "                groupby(pd.cut(duration_temperature_weekdays['mean_temperature_c'], np.arange(3,34))).sum()\n",
    "\n",
    "f = plt.figure()\n",
    "ax = trips_temperature['# trips'].plot.bar(figsize=(15,8),colormap='autumn',layout=('# trips','Mean Temperature (C)'), ax=f.gca())\n",
    "ax.set_ylabel('Viajes',size=20.0,labelpad=20.0);\n",
    "ax.set_xlabel('Temperatura Promedio (C)',size=20.0,labelpad=20.0);\n",
    "ax.set_facecolor('white')\n",
    "ax.grid(color='k',axis='y' ,linestyle='dotted', linewidth=0.1)\n",
    "ax.set_title('Cantidad de alquileres segun la temperatura los dias de semana',size=20.0)\n",
    "plt.show()"
   ]
  },
  {
   "cell_type": "markdown",
   "metadata": {},
   "source": [
    "Para realizar este análisis hicimos un promedio de las temperaturas medias registradas por cada día (son 5, correspondientes a los 5 barrios distintos). \n",
    "De esta forma podemos ver en el grafico generado que la mayor cantidad de viajes se da cuando la temperatura media por día es una temperatura agradable y no es ni muy elevada ni muy baja (entre 14° y 21° Celsius). "
   ]
  },
  {
   "cell_type": "markdown",
   "metadata": {},
   "source": [
    "# --------------------------------------------------------------------------------------------------"
   ]
  },
  {
   "cell_type": "markdown",
   "metadata": {},
   "source": [
    "### ¿Influye la lluvia en la cantidad de viajes realizados durante la semana?"
   ]
  },
  {
   "cell_type": "code",
   "execution_count": null,
   "metadata": {
    "collapsed": false
   },
   "outputs": [],
   "source": [
    "precipitation = weather_meta[['date','precipitation_inches']]"
   ]
  },
  {
   "cell_type": "code",
   "execution_count": null,
   "metadata": {
    "collapsed": false
   },
   "outputs": [],
   "source": [
    "precipitation.columns = ['date','inches']"
   ]
  },
  {
   "cell_type": "code",
   "execution_count": null,
   "metadata": {
    "collapsed": false
   },
   "outputs": [],
   "source": [
    "precipitation = precipitation.loc[precipitation.inches != 'T',:]\n",
    "precipitation.inches = pd.to_numeric(precipitation.inches)"
   ]
  },
  {
   "cell_type": "code",
   "execution_count": null,
   "metadata": {
    "collapsed": true
   },
   "outputs": [],
   "source": [
    "precipitation = precipitation.groupby('date').mean()\n",
    "precipitation = pd.DataFrame(precipitation.to_records())"
   ]
  },
  {
   "cell_type": "code",
   "execution_count": null,
   "metadata": {
    "collapsed": false
   },
   "outputs": [],
   "source": [
    "precipitation_trips = pd.merge(date_duration,precipitation,how='inner',on='date')"
   ]
  },
  {
   "cell_type": "code",
   "execution_count": null,
   "metadata": {
    "collapsed": false
   },
   "outputs": [],
   "source": [
    "precipitation_trips = precipitation_trips[['# trips','date','inches']]"
   ]
  },
  {
   "cell_type": "code",
   "execution_count": null,
   "metadata": {
    "collapsed": false
   },
   "outputs": [],
   "source": [
    "precipitation_trips['weekday'] = precipitation_trips.date.apply(lambda x: x.weekday())\n",
    "precipitation_trips = precipitation_trips.loc[precipitation_trips.weekday < 5,:]"
   ]
  },
  {
   "cell_type": "code",
   "execution_count": null,
   "metadata": {
    "collapsed": false
   },
   "outputs": [],
   "source": [
    "precipitation_trips_plot = precipitation_trips.\\\n",
    "                groupby(pd.cut(precipitation_trips['inches'], np.arange(0, 1.1, 0.045))).sum()\n",
    "\n",
    "f = plt.figure()\n",
    "ax = precipitation_trips_plot['# trips'].plot.bar(figsize=(15,8),colormap='seismic',ax=f.gca())\n",
    "ax.set_ylabel('Viajes',size=20.0,labelpad=20.0);\n",
    "ax.set_xlabel('Precipitacion (pulgadas)',size=20.0,labelpad=20.0);\n",
    "ax.set_facecolor('white')\n",
    "ax.grid(color='k',axis='y' ,linestyle='dotted', linewidth=0.1)\n",
    "ax.set_title('Cantidad de alquileres segun la lluvia los dias de semana',size=20.0)\n",
    "plt.show()"
   ]
  },
  {
   "cell_type": "markdown",
   "metadata": {},
   "source": [
    "El grafico de arriba muestra de una forma muy clara que la mayor cantidad de viajes se realizan cuando no hay precipitaciones o las mismas son muy bajas.\n",
    "\n",
    "De todos modos, se encuentran algunos registros cuando la precipitación es mas elevada. Esto puede deberse a que los viajes fueron realizados un día de lluvia pero en un momento del día en que aún no llovía."
   ]
  },
  {
   "cell_type": "markdown",
   "metadata": {},
   "source": [
    "# ------------------------------------------------------------------------------------------------------"
   ]
  },
  {
   "cell_type": "markdown",
   "metadata": {},
   "source": [
    "## Viajes según la nubosidad\n"
   ]
  },
  {
   "cell_type": "code",
   "execution_count": null,
   "metadata": {
    "collapsed": true
   },
   "outputs": [],
   "source": [
    "cloudy = weather_meta[['date','cloud_cover']].groupby('date').mean()\n",
    "cloudy_avg = pd.DataFrame(cloudy.to_records())"
   ]
  },
  {
   "cell_type": "code",
   "execution_count": null,
   "metadata": {
    "collapsed": false
   },
   "outputs": [],
   "source": [
    "cloudy_stats = pd.merge(final,cloudy_avg,how='inner',on='date')"
   ]
  },
  {
   "cell_type": "markdown",
   "metadata": {
    "collapsed": false
   },
   "source": [
    "## ¿Cual es el porcentaje de viajes en días de nubosidad elevada?"
   ]
  },
  {
   "cell_type": "code",
   "execution_count": null,
   "metadata": {
    "collapsed": false
   },
   "outputs": [],
   "source": [
    "total_cloudy = cloudy_stats.count()\n",
    "travels_cloudy = cloudy_stats.loc[cloudy_stats.cloud_cover > 4].count() / cloudy_stats.count()\n",
    "print travels_cloudy['id'] * 100"
   ]
  },
  {
   "cell_type": "markdown",
   "metadata": {},
   "source": [
    "Los días de nubosidad elevada, se utiliza en menor cantidad el servicio de rental.\n",
    "\n",
    "##### Aclaración: se consideró un día de nubosidad elevada cuando en esta escala que va de 0 a 8, es mayor a 4 el valor."
   ]
  },
  {
   "cell_type": "markdown",
   "metadata": {},
   "source": [
    "## ¿Influye la nubosidad en el largo de los viajes?"
   ]
  },
  {
   "cell_type": "code",
   "execution_count": null,
   "metadata": {
    "collapsed": false
   },
   "outputs": [],
   "source": [
    "travels_cloudy = cloudy_stats.loc[cloudy_stats.cloud_cover > 4]\n",
    "fig = plt.figure()\n",
    "ax = plt.subplot(111)\n",
    "travels_cloudy.plot.scatter('duration(min)','cloud_cover',alpha=0.32,figsize=(12,8),ax=ax);\n",
    "ax.set_ylabel('Nubosidad',size=10.0,labelpad=20.0)\n",
    "ax.set_xlim(0,400);\n",
    "ax.set_title('Duracion de viajes segun la nubosidad', fontsize=15)"
   ]
  },
  {
   "cell_type": "markdown",
   "metadata": {},
   "source": [
    "En los días de nubosidad elevada, se ve como a partir que aumenta la nubosidad, disminuye la cantidad de viajes de mayor duración, siendo este parámetro un factor importante a la hora de decidir si utilizar el servicio o no, por las probables posibilidades de que precipite.\n",
    "\n",
    "Cuanto más nublado se presente el día más cortos serán los viajes en ese día."
   ]
  },
  {
   "cell_type": "code",
   "execution_count": null,
   "metadata": {
    "collapsed": false
   },
   "outputs": [],
   "source": [
    "# Cloud cover vs duration\n",
    "ax = cloudy_stats.groupby('cloud_cover').mean()['duration(min)'].plot(figsize=(14,4));\n",
    "ax.set_facecolor('white')\n",
    "ax.set_ylabel('Duracion Promedio(min)',size=10.0,labelpad=20.0)\n",
    "ax.set_xlabel('Nubosidad',size=10.0,labelpad=20.0)\n",
    "ax.set_ylim(0,35)\n",
    "ax.set_title('Promedio de duracion de viajes segun la nubosidad', fontsize=15)"
   ]
  },
  {
   "cell_type": "markdown",
   "metadata": {},
   "source": [
    "# ¿Gana popularidad el servicio a lo largo de los años?"
   ]
  },
  {
   "cell_type": "code",
   "execution_count": null,
   "metadata": {
    "collapsed": false
   },
   "outputs": [],
   "source": [
    "mitad = datetime.datetime(2014,8,29)\n",
    "trips_year = trips_longer['duration(min)'].groupby(trip_meta.start_date < mitad).agg([np.size])\n",
    "f = plt.figure()\n",
    "ax = trips_year.plot.barh(figsize=(12,8))\n",
    "ax.set_xlabel('Viajes',size=15.0,labelpad=20.0)\n",
    "ax.set_ylabel('Anio',size=15.0,labelpad=20.0)\n",
    "ax.tick_params('both', colors='k',labelsize=15.0)\n",
    "ax.grid(color='k',axis='x' ,linestyle='dotted', linewidth=0.1)\n",
    "ax.set_yticklabels(['8/2014-8/2015','8/2013-8/2014'])\n",
    "ax.set_facecolor('white')\n",
    "ax.set_title('Cantidad de viajes segun el anio',size=20.0)\n",
    "plt.show()"
   ]
  },
  {
   "cell_type": "markdown",
   "metadata": {},
   "source": [
    "Luego de visualizar el gráfico que se encuentra arriba podemos llegar a la conclusión que de los 2 años de registros que tenemos, el segundo año se realizaron mas viajes que en el primero. Por lo que podemos considerar que el servicio de alquiler de bicicletas esta ganando popularidad entre los habitantes de San Francisco."
   ]
  },
  {
   "cell_type": "markdown",
   "metadata": {},
   "source": [
    "# ¿Varía el alquiler de bicicletas segun el mes del año?"
   ]
  },
  {
   "cell_type": "code",
   "execution_count": null,
   "metadata": {
    "collapsed": false
   },
   "outputs": [],
   "source": [
    "trips_longer['month'] = trips_longer.start_date2.apply(lambda x: x.month)"
   ]
  },
  {
   "cell_type": "code",
   "execution_count": null,
   "metadata": {
    "collapsed": true
   },
   "outputs": [],
   "source": [
    "import matplotlib.patches as mpatches"
   ]
  },
  {
   "cell_type": "code",
   "execution_count": null,
   "metadata": {
    "collapsed": false
   },
   "outputs": [],
   "source": [
    "f = plt.figure()\n",
    "ax = trips_longer.groupby('month').size().plot(kind='bar',figsize=(15,8))\n",
    "ax.set_ylabel('Viajes',size=15.0,labelpad=20.0)\n",
    "ax.set_xlabel('Mes',size=15.0,labelpad=20.0)\n",
    "ax.set_facecolor('white')\n",
    "ax.set_title('Cantidad de viajes realizados segun el mes del anio', color='black',size=15.0)\n",
    "red_patch = mpatches.Patch(color='r', label='Verano');yellow_patch = mpatches.Patch(color='y', label='Otonio')\n",
    "cyan_patch = mpatches.Patch(color='c', label='Invierno');green_patch = mpatches.Patch(color='g', label='Primavera');\n",
    "plt.legend(handles=[red_patch,yellow_patch,cyan_patch,green_patch])\n",
    "ax.grid(color='k', linestyle='dotted',axis='y',linewidth=0.1)\n",
    "ax.get_children()[0].set_color('c');ax.get_children()[1].set_color('c');ax.get_children()[2].set_color('g')\n",
    "ax.get_children()[3].set_color('g');ax.get_children()[4].set_color('g');ax.get_children()[5].set_color('r')\n",
    "ax.get_children()[6].set_color('r');ax.get_children()[7].set_color('r');ax.get_children()[8].set_color('y')\n",
    "ax.get_children()[9].set_color('y');ax.get_children()[10].set_color('y');ax.get_children()[11].set_color('c')\n",
    "ax.set_xticklabels(['Enero','Febrero','Marzo','Abril','Mayo','Junio','Julio','Agosto','Septiembre','Octubre','Noviembre','Diciembre'])\n",
    "plt.show()"
   ]
  },
  {
   "cell_type": "markdown",
   "metadata": {},
   "source": [
    "En el grafico se observa claramente como la mayor cantidad de viajes se da en los meses con una temperatura mas elevada mientras que decrece en los meses mas fríos. Esto coincide con el grafico de las temperaturas.\n"
   ]
  },
  {
   "cell_type": "markdown",
   "metadata": {},
   "source": [
    "# ¿Cuáles son los horarios pico del servicio?"
   ]
  },
  {
   "cell_type": "code",
   "execution_count": null,
   "metadata": {
    "collapsed": true
   },
   "outputs": [],
   "source": [
    "trip_meta['hour'] = trip_meta.start_date.apply(lambda x: x.hour)"
   ]
  },
  {
   "cell_type": "code",
   "execution_count": null,
   "metadata": {
    "collapsed": false
   },
   "outputs": [],
   "source": [
    "f = plt.figure()\n",
    "ax = trip_meta.groupby('hour').size().plot(kind='bar',figsize=(15,8))\n",
    "ax.get_children()[8].set_color('r');ax.get_children()[17].set_color('r')\n",
    "ax.grid(color='k', linestyle='dotted',axis='y' ,linewidth=0.1)\n",
    "ax.set_ylabel('Viajes',size=15.0,labelpad=20.0)\n",
    "ax.set_xlabel('Hora',size=15.0,labelpad=20.0)\n",
    "ax.set_title('Cantidad de viajes realizados segun la hora del dia', color='black',size=15.0)\n",
    "ax.set_facecolor('white')\n",
    "red_patch = mpatches.Patch(color='r', label='Horas pico')\n",
    "plt.legend(handles=[red_patch])\n",
    "plt.show()"
   ]
  },
  {
   "cell_type": "markdown",
   "metadata": {},
   "source": [
    "Analizando los viajes realizados a lo largo de toda la semana se observa que los horarios picos del servicio son a la hora de ir y volver del trabajo (8 y 17 hs). \n",
    "\n",
    "Mientras que obviamente el servicio no tiene casi uso a la madrugada y es significantemente menor durante las horas laborales."
   ]
  },
  {
   "cell_type": "markdown",
   "metadata": {},
   "source": [
    "# ¿Cuál es la franja horaria mas popular los fines de semana?"
   ]
  },
  {
   "cell_type": "code",
   "execution_count": null,
   "metadata": {
    "collapsed": true
   },
   "outputs": [],
   "source": [
    "weekend_hour = trip_meta[['start_date']]\n",
    "weekend_hour['hour'] = weekend_hour.start_date.apply(lambda x: x.hour)\n",
    "weekend_hour['weekday'] = weekend_hour.start_date.apply(lambda x: x.weekday())\n",
    "weekend_hour = weekend_hour.loc[weekend_hour.weekday>4,:]"
   ]
  },
  {
   "cell_type": "code",
   "execution_count": null,
   "metadata": {
    "collapsed": true
   },
   "outputs": [],
   "source": [
    "def ax_paint_area(min,max):\n",
    "    for x in range(min,max):\n",
    "        ax.get_children()[x].set_color('r');"
   ]
  },
  {
   "cell_type": "code",
   "execution_count": null,
   "metadata": {
    "collapsed": false
   },
   "outputs": [],
   "source": [
    "MIN_RUSH=11\n",
    "MAX_RUSH=17\n",
    "\n",
    "f = plt.figure()\n",
    "plt.title('Viajes por hora los fines de semana', color='black', fontsize = 15)\n",
    "ax = weekend_hour.groupby('hour').size().plot(kind='bar',figsize=(15,8))\n",
    "ax.grid(color='k', linestyle='dotted',axis='y' ,linewidth=0.1)\n",
    "ax_paint_area(MIN_RUSH,MAX_RUSH)\n",
    "ax.set_ylabel('Viajes',size=15.0,labelpad=20.0)\n",
    "ax.set_xlabel('Hora',size=15.0,labelpad=20.0)\n",
    "ax.set_facecolor('white')\n",
    "red_patch = mpatches.Patch(color='r', label='Horas pico')\n",
    "plt.legend(handles=[red_patch])\n",
    "plt.show()"
   ]
  },
  {
   "cell_type": "markdown",
   "metadata": {},
   "source": [
    "En el gráfico vemos como la franja horaria más popular los fines de semana se encuentra entre las 11 y las 16 por lo que a diferencia del gráfico anterior, en donde había dos horarios muy marcados, está relacionado con que el fin de semana la gente no tiene que cumplir ningún horario y elige aprovechar el día en los horarios de más luz y mejor clima.\n",
    "\n",
    "Los fines de semana, la gente utiliza mucho más el servicio en horarios durante la tarde que los días de semana."
   ]
  },
  {
   "cell_type": "markdown",
   "metadata": {},
   "source": [
    "# Cantidad de alquileres por dia y la duracion promedio de los mismos."
   ]
  },
  {
   "cell_type": "code",
   "execution_count": null,
   "metadata": {
    "collapsed": false
   },
   "outputs": [],
   "source": [
    "dif_day_trips = final[['duration(min)','date']]"
   ]
  },
  {
   "cell_type": "code",
   "execution_count": null,
   "metadata": {
    "collapsed": false
   },
   "outputs": [],
   "source": [
    "dif_day_trips['weekday'] = dif_day_trips['date'].apply(lambda x: x.weekday())"
   ]
  },
  {
   "cell_type": "code",
   "execution_count": null,
   "metadata": {
    "collapsed": false
   },
   "outputs": [],
   "source": [
    "dif_day_trips = dif_day_trips[['duration(min)','weekday']]"
   ]
  },
  {
   "cell_type": "code",
   "execution_count": null,
   "metadata": {
    "collapsed": false
   },
   "outputs": [],
   "source": [
    "trips_by_day = dif_day_trips.groupby('weekday').agg([np.mean,np.size])\n",
    "# Falta ordenar por dia."
   ]
  },
  {
   "cell_type": "code",
   "execution_count": null,
   "metadata": {
    "collapsed": false
   },
   "outputs": [],
   "source": [
    "dif_day_trips_avg = dif_day_trips.groupby('weekday').agg([np.mean])\n",
    "dif_day_trips_cant = dif_day_trips.groupby('weekday').agg([np.size])"
   ]
  },
  {
   "cell_type": "markdown",
   "metadata": {
    "collapsed": false
   },
   "source": [
    "## ¿Cuantos alquileres hay por día y que duración promedio tienen los mismos?"
   ]
  },
  {
   "cell_type": "code",
   "execution_count": null,
   "metadata": {
    "collapsed": false
   },
   "outputs": [],
   "source": [
    "f = plt.figure()\n",
    "ax = dif_day_trips_cant.plot(kind='line',figsize=(16,8))\n",
    "ax.plot(dif_day_trips_cant,'g-',linewidth=5.0)\n",
    "ax.set_title('Cantidad de viajes y duracion promedio de los mismos segun el dia', color='black',size=20.0)\n",
    "ax.set_facecolor('white')\n",
    "ax.set_ylabel('Cantidad de Viajes',color='g',size=20.0,labelpad=20.0);\n",
    "ax.set_xlabel('Dias',size=20.0,labelpad=20.0);\n",
    "ax.tick_params('y', colors='g',labelsize=15.0)\n",
    "ax.tick_params('x', colors='k',labelsize=15.0)\n",
    "ax.set_ylim(0,100000)\n",
    "ax.set_xmargin(1.0)\n",
    "ax.grid(color='k', linestyle='dotted',linewidth=0.1)\n",
    "ax2 = ax.twinx()\n",
    "red_patch = mpatches.Patch(color='r', label='Avg Duration(min)');blue_patch = mpatches.Patch(color='b', label='# Trips')\n",
    "ax2.plot(dif_day_trips_avg,'m-',linewidth=5.0)\n",
    "\n",
    "ax2.set_xticklabels(['-','Lunes','Martes','Miercoles','Jueves','Viernes','Sabado','Domingo'])\n",
    "ax2.set_ylabel('Duracion Promedio (Min)', color='m',size=15.0,labelpad=20.0)\n",
    "ax2.tick_params('y', colors='m',labelsize=15.0)\n",
    "ax2.set_ylim(0,40)\n",
    "ax2.set_facecolor('white')\n",
    "ax2.grid(b=False)\n",
    "ax.legend().set_visible(False)\n",
    "plt.show()"
   ]
  },
  {
   "cell_type": "markdown",
   "metadata": {},
   "source": [
    "Se observa claramente como la duración promedio de los viajes es menor los dias de semana, asi mismo como la cantidad de viajes realizados durante la semana laboral es mayor. Probablemente se realicen muchos viajes para ir a trabajar de corta duracion. \n",
    "\n",
    "Durante el fin de semana la situacion es inversa. Hay una menor cantidad de viajes realizados pero la duración promedio de los mismos aumenta. Probablemente esto quiera decir que los viajes que se realizan el fin de semana se realizan por ocio y sin restricciones de tiempo(por ejemplo: pasear por la ciudad de San Francisco)."
   ]
  },
  {
   "cell_type": "markdown",
   "metadata": {},
   "source": [
    "# ¿Como se comportan los viajes segun el tipo de subscripción?"
   ]
  },
  {
   "cell_type": "code",
   "execution_count": null,
   "metadata": {
    "collapsed": false
   },
   "outputs": [],
   "source": [
    "subscription_trips = trip_meta.loc[:,['duration(min)','subscription_type']]\n",
    "subscription_trips = subscription_trips.groupby('subscription_type').agg([np.mean,np.size])\n",
    "subscription_trips"
   ]
  },
  {
   "cell_type": "markdown",
   "metadata": {},
   "source": [
    "## ¿Cual es la duración promedio de los alquileres según la subscripción?"
   ]
  },
  {
   "cell_type": "code",
   "execution_count": null,
   "metadata": {
    "collapsed": false
   },
   "outputs": [],
   "source": [
    "subscription_trips2 = trip_meta.loc[:,['duration(min)','subscription_type','start_date2']]\n",
    "subscription_trips2['weekday'] = subscription_trips2['start_date2'].apply(lambda x: x.weekday())\n",
    "subscription_trips2 = subscription_trips2.loc[:,['duration(min)','subscription_type','weekday']].\\\n",
    "                                                    groupby(['weekday','subscription_type']).agg([np.mean])\n",
    "subscription_trips2 = pd.DataFrame(subscription_trips2.to_records())\n",
    "subscription_trips2.columns = ['weekday','subscription_type','Avg Trip']\n",
    "subscription_trips2 = pd.pivot_table(subscription_trips2,values='Avg Trip',columns='subscription_type',index='weekday')\n",
    "\n",
    "f = plt.figure()\n",
    "ax = subscription_trips2.plot.bar(figsize=(12,8))\n",
    "plt.title('Duracion Promedio de los viajes segun el dia y el tipo de subscripcion', color='black')\n",
    "ax.set_ylabel('Duracion Promedio (Min)');\n",
    "ax.set_xticklabels(['Lunes','Martes','Miercoles','Jueves','Viernes','Sabado','Domingo'])\n",
    "ax.set_xlabel('Dias',size=20.0,labelpad=20.0);\n",
    "ax.set_facecolor('white')\n",
    "plt.show()"
   ]
  },
  {
   "cell_type": "markdown",
   "metadata": {},
   "source": [
    "En este grafico se observa como los viajes mas largos a lo largo de toda la semana lo realizan aquellos usuarios que no estan subscriptos al servicio. \n",
    "\n",
    "El fin de semana se nota un incremento en la duración promedio de ambos tipos de usuarios, lo cual  tiene lógica y coincide con el analisis realizado anteriormente acerca de los dias."
   ]
  },
  {
   "cell_type": "markdown",
   "metadata": {},
   "source": [
    "## ¿Como se distribuyen los alquileres de las bicicletas según el tipo de usuario?"
   ]
  },
  {
   "cell_type": "code",
   "execution_count": null,
   "metadata": {
    "collapsed": false,
    "scrolled": false
   },
   "outputs": [],
   "source": [
    "subscription_trips3 = trip_meta.loc[:,['duration(min)','subscription_type','start_date2']]\n",
    "subscription_trips3['weekday'] = subscription_trips3['start_date2'].apply(lambda x: x.weekday())\n",
    "subscription_trips3 = subscription_trips3.loc[:,['duration(min)','subscription_type','weekday']].\\\n",
    "                                        groupby(['weekday','subscription_type']).agg([np.size])\n",
    "subscription_trips3 = pd.DataFrame(subscription_trips3.to_records())\n",
    "subscription_trips3.columns = ['weekday','subscription_type','trips']\n",
    "subscription_trips3 = pd.pivot_table(\n",
    "                            subscription_trips3,values='trips',columns='subscription_type',index='weekday')\n",
    "subscription_trips3 = subscription_trips3.divide(subscription_trips3.sum(axis=1),axis=0)\n",
    "\n",
    "f = plt.figure()\n",
    "ax = subscription_trips3.plot(kind='area', stacked=True,figsize=(16,8),ax=f.gca())\n",
    "handles, labels = ax.get_legend_handles_labels()\n",
    "ax.set_xticklabels(['Lunes','Martes','Miercoles','Jueves','Viernes','Sabado','Domingo'])\n",
    "ax.set_yticklabels(['0%','20%','40%','60%','80%','100%'])\n",
    "ax.set_ylabel('Porcentaje',size=20.0,labelpad=20.0);\n",
    "ax.set_xlabel('Dias',size=20.0,labelpad=20.0);\n",
    "ax.set_title('Porcentaje de viajes segun la subscripcion a lo largo de la semana', color='black',size=20.0)\n",
    "ax.set_ylim(0,1)\n",
    "plt.legend(handles[::-1], labels[::-1],loc='center left', bbox_to_anchor=(1.0, 0.5))\n",
    "plt.show()"
   ]
  },
  {
   "cell_type": "markdown",
   "metadata": {},
   "source": [
    "En este grafico de área podemos ver como durante la semana laboral, el 80% de los viajes los realizan aquellos usuarios subscriptos al servicio mientras que en el fin de semana sube la cantidad de viajes realizados por los usuarios no subscriptos. \n",
    "\n",
    "Lo cual sigue coincidiendo con nuestra teoria de que durante la semana la mayor cantidad de viajes que se realizan son relacionados al trabajo mientras que en el fin de semana se realizan mas viajes por ocio."
   ]
  },
  {
   "cell_type": "markdown",
   "metadata": {
    "collapsed": true
   },
   "source": [
    "## ¿Cuáles son las estaciones más populares?"
   ]
  },
  {
   "cell_type": "code",
   "execution_count": null,
   "metadata": {
    "collapsed": false
   },
   "outputs": [],
   "source": [
    "station_stats = pd.concat([trip_meta['start_station_name'], trip_meta['end_station_name']])"
   ]
  },
  {
   "cell_type": "code",
   "execution_count": null,
   "metadata": {
    "collapsed": false
   },
   "outputs": [],
   "source": [
    "# TOP 20 Estaciones mas populares\n",
    "f = plt.figure()\n",
    "ax = station_stats.value_counts().head(20).plot(kind='bar',rot=90,figsize=(12,8));\n",
    "plt.title('TOP 20 de estaciones mas visitadas', color='black')\n",
    "ax.set_ylabel('Viajes');\n",
    "ax.grid(color='k',axis='y' ,linestyle='dotted',linewidth=0.1)\n",
    "ax.set_xlabel('Estaciones');\n",
    "ax.set_facecolor('white')\n",
    "plt.show()"
   ]
  },
  {
   "cell_type": "markdown",
   "metadata": {},
   "source": [
    "# HeatMap de las estaciones mas usadas en San Francisco\n",
    "![](images/heatmap-codigo.png)"
   ]
  },
  {
   "cell_type": "markdown",
   "metadata": {},
   "source": [
    "![](images/heatmap-SanFrancisco-Nombres.png)"
   ]
  },
  {
   "cell_type": "markdown",
   "metadata": {},
   "source": [
    "![](images/heatmap-SanFranciscoCaltrain.png)"
   ]
  },
  {
   "cell_type": "markdown",
   "metadata": {},
   "source": [
    "## ¿Cuáles son las estaciones más usadas según el día?"
   ]
  },
  {
   "cell_type": "code",
   "execution_count": null,
   "metadata": {
    "collapsed": false
   },
   "outputs": [],
   "source": [
    "popular_stations = trip_meta[['start_date','start_station_name','duration(min)']]"
   ]
  },
  {
   "cell_type": "code",
   "execution_count": null,
   "metadata": {
    "collapsed": false
   },
   "outputs": [],
   "source": [
    "# Filtro los viajes que duran menos de 5 minutos\n",
    "popular_stations = popular_stations.loc[popular_stations['duration(min)'] > 5,:]"
   ]
  },
  {
   "cell_type": "code",
   "execution_count": null,
   "metadata": {
    "collapsed": false
   },
   "outputs": [],
   "source": [
    "popular_stations.rename(columns={'start_date':'date','start_station_name':'station'},inplace=True)"
   ]
  },
  {
   "cell_type": "code",
   "execution_count": null,
   "metadata": {
    "collapsed": false
   },
   "outputs": [],
   "source": [
    "popular_stations['weekday'] = popular_stations.date.apply(lambda x: x.weekday())"
   ]
  },
  {
   "cell_type": "code",
   "execution_count": null,
   "metadata": {
    "collapsed": false
   },
   "outputs": [],
   "source": [
    "popular_stations = popular_stations[['station','duration(min)','weekday']]"
   ]
  },
  {
   "cell_type": "code",
   "execution_count": null,
   "metadata": {
    "collapsed": false
   },
   "outputs": [],
   "source": [
    "popular_stations = popular_stations.groupby(['station','weekday']).agg([np.size])\n",
    "popular_stations = pd.DataFrame(popular_stations.to_records())\n",
    "popular_stations.columns = ['station','weekday','trips']\n",
    "popular_stations = pd.pivot_table(popular_stations,values='trips',columns='weekday',index='station')\n",
    "fig, ax = plt.subplots(figsize=(10,20))\n",
    "ax = sns.heatmap(popular_stations)\n",
    "ax.set_xticklabels(['Lunes','Martes','Miercoles','Jueves','Viernes','Sabado','Domingo'])\n",
    "ax.set_title(\"Popularidad de las estaciones segun el dia\", fontsize=15)\n",
    "ax"
   ]
  },
  {
   "cell_type": "markdown",
   "metadata": {},
   "source": [
    "En este heatmap se ve claramente como hay estaciones que de lunes a viernes son extremadamente populares mientras que los fines de semana decrece su uso enormemente debido a su ubicación centrica y relacionada con áreas laborales.\n",
    "\n",
    "Además, notamos la consistencia en nuestro análisis al ver que las estaciones más marcadas en el mapa de calor condicen con el TOP 20 de estaciones populares realizado anteriormente."
   ]
  },
  {
   "cell_type": "markdown",
   "metadata": {},
   "source": [
    "## ¿Cuáles son las estaciones mas populares los fines de semana?"
   ]
  },
  {
   "cell_type": "code",
   "execution_count": null,
   "metadata": {
    "collapsed": false
   },
   "outputs": [],
   "source": [
    "final.rename(columns={'name':'start_station_name'},inplace=True)\n",
    "weekend_stations = final[['start_station_name','end_station_name','date']]\n",
    "weekend_stations['weekday'] = weekend_stations.date.apply(lambda x: x.weekday())\n",
    "weekend_stations = weekend_stations.loc[weekend_stations.weekday>4,:]\n",
    "weekend_stations = pd.concat([weekend_stations['start_station_name'], weekend_stations['end_station_name']])\n",
    "f = plt.figure()\n",
    "ax = weekend_stations.value_counts().head(10).plot(kind='bar',rot=90,figsize=(12,8));\n",
    "plt.title('Estaciones mas populares los fines de semana', color='black', fontsize=15)\n",
    "ax.set_ylabel('Viajes');\n",
    "ax.set_xlabel('Estaciones');\n",
    "ax.set_facecolor('white')\n",
    "ax.get_children()[0].set_color('r');ax.get_children()[1].set_color('r')\n",
    "plt.show()\n",
    "\n"
   ]
  },
  {
   "cell_type": "markdown",
   "metadata": {},
   "source": [
    "## ¿Cuál de las estaciones nuevas fue la mas usada?"
   ]
  },
  {
   "cell_type": "code",
   "execution_count": null,
   "metadata": {
    "collapsed": false
   },
   "outputs": [],
   "source": [
    "station_meta = pd.read_csv('data/station.csv')\n",
    "station_meta['installation_date'] = pd.to_datetime(station_meta['installation_date'])"
   ]
  },
  {
   "cell_type": "code",
   "execution_count": null,
   "metadata": {
    "collapsed": false
   },
   "outputs": [],
   "source": [
    "last_year = datetime.datetime(2014,1,1)\n",
    "new_stations = station_meta.loc[station_meta.installation_date >= last_year]"
   ]
  },
  {
   "cell_type": "code",
   "execution_count": null,
   "metadata": {
    "collapsed": false
   },
   "outputs": [],
   "source": [
    "final.rename(columns={'start_station_name':'name'},inplace=True)\n",
    "new_stations = pd.merge(final,new_stations,how='inner',on='name')"
   ]
  },
  {
   "cell_type": "code",
   "execution_count": null,
   "metadata": {
    "collapsed": false
   },
   "outputs": [],
   "source": [
    "ax = new_stations[['name','installation_date']]\\\n",
    "                .groupby('name').count()\\\n",
    "                .rename(columns={'installation_date':'Viajes'})\\\n",
    "                .plot(figsize=(15,5));\n",
    "ax.grid(color='k', linestyle='dotted',axis='y' ,linewidth=0.3)\n",
    "ax.set_title(\"Cantidad de viajes en estaciones nuevas\", fontsize=15)\n",
    "ax.set_facecolor(\"white\")\n",
    "ax"
   ]
  },
  {
   "cell_type": "markdown",
   "metadata": {},
   "source": [
    "Broadway St at Battery St fue de las 3 estaciones más nuevas la más frecuentada.\n",
    "\n",
    "#### Aclaración: se consideró como nuevas a las estaciones cuya fecha de instalación databan a partir del 2014 (último año del set de datos)"
   ]
  },
  {
   "cell_type": "markdown",
   "metadata": {},
   "source": [
    "## ¿Cuál es el promedio de docks por estación?"
   ]
  },
  {
   "cell_type": "code",
   "execution_count": null,
   "metadata": {
    "collapsed": false
   },
   "outputs": [],
   "source": [
    "# Quiero ver cual es el promedio de docks en cada estacion\n",
    "station_meta['dock_count'].mean()"
   ]
  },
  {
   "cell_type": "markdown",
   "metadata": {},
   "source": [
    "## ¿Qué cantidad de docks posee la más usada de las nuevas?"
   ]
  },
  {
   "cell_type": "code",
   "execution_count": null,
   "metadata": {
    "collapsed": false
   },
   "outputs": [],
   "source": [
    "# Ahora quiero ver que pasa en Broadway St at Battery (de las nuevas, la mas usada)\n",
    "station_meta.loc[station_meta.name == 'Broadway St at Battery St']['dock_count']"
   ]
  },
  {
   "cell_type": "markdown",
   "metadata": {},
   "source": [
    "Como la estación más usada de las nuevas tiene un número de docks levemente por debajo del promedio, podría ser una sugerencia útil, agregarle algunos docks más a la estación ya que desde que fue instlada ha sido frecuentada. Tambien podría ser de utilidad para el servicio chequear la zona de esta estación para agregar alguna nueva cercana dada su popularidad."
   ]
  },
  {
   "cell_type": "markdown",
   "metadata": {},
   "source": [
    "## ¿Cuál es la ciudad que mas usa el servicio?"
   ]
  },
  {
   "cell_type": "code",
   "execution_count": null,
   "metadata": {
    "collapsed": false
   },
   "outputs": [],
   "source": [
    "popular_city = pd.merge(final,station_meta,how='inner',on='name')\n",
    "ax = popular_city.groupby('city').count()['id_x'].plot(kind='barh',figsize=(14,4));\n",
    "ax.set_title(\"Cantidad de viajes por ciudad\", fontsize=15)\n",
    "ax.set_xlabel('Viajes',size=10.0,labelpad=20.0)\n",
    "ax.set_facecolor(\"white\")"
   ]
  },
  {
   "cell_type": "markdown",
   "metadata": {},
   "source": [
    "Es lógico que así lo sea, el servicio es muy utilizado en la ciudad de San Francisco como se ve también en el heatmap de abajo, ya que es la ciudad con más movimiento, más habitantes de las 5 involucradas y también la más visitada."
   ]
  },
  {
   "cell_type": "markdown",
   "metadata": {},
   "source": [
    "# HeatMap de las estaciones mas usadas en todas las ciudades (equivale con la  cantidad de viajes)\n",
    "![](images/heatmap-ciudades.png)"
   ]
  },
  {
   "cell_type": "markdown",
   "metadata": {},
   "source": [
    "## Por amplia diferencia San Francisco es la ciudad que más uso le da al servicio."
   ]
  },
  {
   "cell_type": "markdown",
   "metadata": {},
   "source": [
    "# -------------------------------------------------------------------------------------------------------- "
   ]
  },
  {
   "cell_type": "markdown",
   "metadata": {
    "collapsed": true
   },
   "source": [
    "## Analisis segun fechas"
   ]
  },
  {
   "cell_type": "code",
   "execution_count": null,
   "metadata": {
    "collapsed": false
   },
   "outputs": [],
   "source": [
    "dates_df = pd.DataFrame()\n",
    "dates_df['date'] = trip_meta['start_date'].dt.date\n",
    "dates_df['trips'] = dates_df.groupby('date')['date'].transform('count')\n",
    "dates_df = dates_df.drop_duplicates('date')\n",
    "dates_df.reset_index(drop = True, inplace = True)"
   ]
  },
  {
   "cell_type": "code",
   "execution_count": null,
   "metadata": {
    "collapsed": false
   },
   "outputs": [],
   "source": [
    "dates_df['date'] = pd.to_datetime(dates_df['date'])\n",
    "dates_df.dtypes"
   ]
  },
  {
   "cell_type": "code",
   "execution_count": null,
   "metadata": {
    "collapsed": false
   },
   "outputs": [],
   "source": [
    "import matplotlib.dates as mdates\n",
    "f = plt.figure()\n",
    "plt.title('Viajes por dia a lo largo del periodo', color='black')\n",
    "ax = ((dates_df.set_index('date')).loc[:,'trips']).plot(kind='line', stacked=True,figsize=(16,8),ax=f.gca())\n",
    "handles, labels = ax.get_legend_handles_labels()\n",
    "ax.set_ylabel('Viajes');\n",
    "ax.set_xlabel('Dia');\n",
    "ax.xaxis.set_major_locator(mdates.MonthLocator(interval=1))\n",
    "plt.show()"
   ]
  },
  {
   "cell_type": "markdown",
   "metadata": {},
   "source": [
    "Al ser muy extenso el intervalo de fechas, el grafico no es tan detallado. Mas adelante se hace enfasis en una parte del mismo."
   ]
  },
  {
   "cell_type": "markdown",
   "metadata": {},
   "source": [
    "## ¿Qué tanto viaja la gente en feriados a comparación con un día corriente?"
   ]
  },
  {
   "cell_type": "code",
   "execution_count": null,
   "metadata": {
    "collapsed": false
   },
   "outputs": [],
   "source": [
    "#Busco los feriados en el tiempo transcurrido\n",
    "calendar = USFederalHolidayCalendar()\n",
    "holidays = calendar.holidays(start=dates_df.date.min(), end=dates_df.date.max())"
   ]
  },
  {
   "cell_type": "code",
   "execution_count": null,
   "metadata": {
    "collapsed": false
   },
   "outputs": [],
   "source": [
    "dates_df['holiday'] = dates_df.date.isin(holidays)"
   ]
  },
  {
   "cell_type": "code",
   "execution_count": null,
   "metadata": {
    "collapsed": false
   },
   "outputs": [],
   "source": [
    "dates_df['weekend'] = dates_df['date'].dt.dayofweek > 4"
   ]
  },
  {
   "cell_type": "code",
   "execution_count": null,
   "metadata": {
    "collapsed": false
   },
   "outputs": [],
   "source": [
    "holidays_mean = dates_df.groupby('holiday')['trips'].mean()\n",
    "ax = holidays_mean.plot.bar(figsize=(12,8))\n",
    "ax.set_xticklabels(['No feriados','Feriados'])\n",
    "ax.set_title(\"Promedio de viajes en feriados y no feriados\", fontsize=15)\n",
    "ax.set_ylabel('Viajes Promedio',size=15.0,labelpad=20.0)\n",
    "ax.set_xlabel('Tipo de Dia',size=15.0,labelpad=20.0)\n",
    "ax.set_ylim(0,1200)\n",
    "ax.set_facecolor(\"white\")"
   ]
  },
  {
   "cell_type": "markdown",
   "metadata": {},
   "source": [
    "Como se ve en el gráfico, en los feriados la gente viaja aproximadamente la mitad de las veces que en los días corrientes. Esto nos da un indicio de que el servicio es frecuente como medio de transporte para ir a trabajar o para transportarse por la ciudad en días normales."
   ]
  },
  {
   "cell_type": "markdown",
   "metadata": {},
   "source": [
    "# Análisis anual"
   ]
  },
  {
   "cell_type": "markdown",
   "metadata": {},
   "source": [
    "### Período 2014"
   ]
  },
  {
   "cell_type": "code",
   "execution_count": null,
   "metadata": {
    "collapsed": false,
    "scrolled": true
   },
   "outputs": [],
   "source": [
    "f = plt.figure()\n",
    "plt.title('Cantidad de viajes por dia',fontsize=20)\n",
    "ax = (dates_df.loc[:,['trips','date']].set_index('date')).plot(figsize=(25,10),ax=f.gca())\n",
    "ax.set_ylabel('Viajes');\n",
    "ax.set_xlabel('Dia');\n",
    "ax.xaxis.set_major_locator(mdates.MonthLocator(interval=1))\n",
    "ax.axvspan(*mdates.datestr2num(['1/1/2014', '12/31/2014']), color='red', alpha=0.5)\n",
    "plt.show()"
   ]
  },
  {
   "cell_type": "markdown",
   "metadata": {},
   "source": [
    "Del grafico anterior tomamos el intervalo correspondiente al 2014."
   ]
  },
  {
   "cell_type": "code",
   "execution_count": null,
   "metadata": {
    "collapsed": true
   },
   "outputs": [],
   "source": [
    "trips_2014 = dates_df.loc[(dates_df['date'] >= datetime.date(2014,1,1)) & (dates_df['date'] < datetime.date(2015,1,1))]\n",
    "trips_2014.sort_values('date',inplace=True)"
   ]
  },
  {
   "cell_type": "markdown",
   "metadata": {},
   "source": [
    "## ¿Qué sucede en los feriados y fines de semana en un año? "
   ]
  },
  {
   "cell_type": "code",
   "execution_count": null,
   "metadata": {
    "collapsed": false
   },
   "outputs": [],
   "source": [
    "holidays_2014 = trips_2014.loc[trips_2014['holiday']]\n",
    "weekends_2014 = trips_2014.loc[trips_2014['weekend']]\n",
    "plt.figure(figsize=(20,10))\n",
    "weekends_plt, = plt.plot(weekends_2014['date'],weekends_2014['trips'],'gD',label='Weekend')\n",
    "holidays_plt, = plt.plot(holidays_2014['date'],holidays_2014['trips'],'rD',label='Holiday')\n",
    "plt.plot(trips_2014['date'],trips_2014['trips'],'-')\n",
    "plt.legend(handles=[weekends_plt,holidays_plt])\n",
    "plt.title(\"Viajes a lo largo del ano 2014\", fontsize=20)\n",
    "plt.show()"
   ]
  },
  {
   "cell_type": "markdown",
   "metadata": {},
   "source": [
    "Se observa que los picos bajos del grafico corresponden a los fines de semana, en los que la cantidad de viajes es considerablemente menor a los dias laborales. Para los feriados ocurre algo similar, excepto para dos fechas que se analizan a continuacion."
   ]
  },
  {
   "cell_type": "markdown",
   "metadata": {},
   "source": [
    "### ¿Los feriados con mas viajes son una constante para todos los años?"
   ]
  },
  {
   "cell_type": "code",
   "execution_count": null,
   "metadata": {
    "collapsed": false
   },
   "outputs": [],
   "source": [
    "holidays_2014.sort_values('trips',inplace=True,ascending=False)\n",
    "holidays_2014.head(2)"
   ]
  },
  {
   "cell_type": "code",
   "execution_count": null,
   "metadata": {
    "collapsed": false
   },
   "outputs": [],
   "source": [
    "trips_2013 = dates_df.loc[(dates_df['date'] >= datetime.date(2013,1,1)) & (dates_df['date'] < datetime.date(2014,1,1))]\n",
    "holidays_2013 = trips_2013.loc[trips_2013['holiday']]\n",
    "holidays_2013.sort_values('trips',inplace=True,ascending=False)\n",
    "holidays_2013.head(2)"
   ]
  },
  {
   "cell_type": "markdown",
   "metadata": {},
   "source": [
    "Para el año 2015 no hay registros de estas fechas, pero se observa que la tendencia es que el segundo lunes de octubre('Columbus Day') y el 11 de noviembre('Veteran's Day') son los feriados con más viajes en el año."
   ]
  },
  {
   "cell_type": "markdown",
   "metadata": {},
   "source": [
    "## ¿Qué bicicletas tienen mas tiempo recorrido?"
   ]
  },
  {
   "cell_type": "code",
   "execution_count": null,
   "metadata": {
    "collapsed": false
   },
   "outputs": [],
   "source": [
    "bike_longer = trip_meta.loc[trip_meta.start_date2 == trip_meta.end_date2,['duration(min)','bike_id']]\n",
    "bike_longer = bike_longer.loc[bike_longer['duration(min)'] > 5,:]"
   ]
  },
  {
   "cell_type": "code",
   "execution_count": null,
   "metadata": {
    "collapsed": false
   },
   "outputs": [],
   "source": [
    "# TOP 10 bicicletas con mas tiempo recorrido (para posible mantenimiento)\n",
    "top10 = bike_longer.groupby('bike_id').sum().sort_values('duration(min)', ascending=False).head(10)\n",
    "ax = top10.plot(kind='bar',figsize=(14,5));\n",
    "ax.set_title(\"Tiempo recorrido de las bicis mas usadas\", fontsize=15)\n",
    "ax.set_facecolor(\"white\")\n",
    "ax.set_ylabel('Viajes',size=20.0,labelpad=20.0)\n",
    "ax.set_xlabel('Bike ID',size=20.0,labelpad=20.0)\n",
    "ax.set_ylim(25000,31000)\n",
    "ax.grid(color='k', linestyle='dotted',axis='y' ,linewidth=0.5)\n",
    "ax"
   ]
  },
  {
   "cell_type": "markdown",
   "metadata": {},
   "source": [
    "#### Esta información podría ser relevante para el servicio a la hora de realizar una tarea de mantenimiento."
   ]
  },
  {
   "cell_type": "markdown",
   "metadata": {},
   "source": [
    "# ¿Cuales son los viajes mas frecuentes?"
   ]
  },
  {
   "cell_type": "code",
   "execution_count": null,
   "metadata": {
    "collapsed": false
   },
   "outputs": [],
   "source": [
    "trip_meta2 = trip_meta[['start_station_name','end_station_name','duration(min)']]\n",
    "trip_meta2 = trip_meta2.groupby(['start_station_name','end_station_name']).agg([np.size])\n",
    "trip_meta2 = pd.DataFrame(trip_meta2.to_records())\n",
    "trip_meta2.columns = ['start_station','end_station','trips']\n",
    "trip_meta2 = trip_meta2.sort_values('trips',ascending=False).head().reset_index()"
   ]
  },
  {
   "cell_type": "code",
   "execution_count": null,
   "metadata": {
    "collapsed": false
   },
   "outputs": [],
   "source": [
    "origen = pd.merge(trip_meta2,station_meta,how='left',left_on='start_station',right_on='name')"
   ]
  },
  {
   "cell_type": "code",
   "execution_count": null,
   "metadata": {
    "collapsed": true
   },
   "outputs": [],
   "source": [
    "origen = origen[['start_station','end_station','trips','lat','long']]"
   ]
  },
  {
   "cell_type": "code",
   "execution_count": null,
   "metadata": {
    "collapsed": true
   },
   "outputs": [],
   "source": [
    "origen = origen[['start_station','end_station','trips','lat','long']]"
   ]
  },
  {
   "cell_type": "code",
   "execution_count": null,
   "metadata": {
    "collapsed": false
   },
   "outputs": [],
   "source": [
    "origen_destino = pd.merge(origen,station_meta,how='left',left_on='end_station',right_on='name')"
   ]
  },
  {
   "cell_type": "code",
   "execution_count": null,
   "metadata": {
    "collapsed": false
   },
   "outputs": [],
   "source": [
    "origen_destino = origen_destino[['start_station','end_station','trips','lat_x','long_x','lat_y','long_y']]\n",
    "origen_destino"
   ]
  },
  {
   "cell_type": "markdown",
   "metadata": {},
   "source": [
    "## 1er viaje mas frecuente:\n",
    "![](images/direction-layer1.png)"
   ]
  },
  {
   "cell_type": "markdown",
   "metadata": {},
   "source": [
    "## 2do viaje mas frecuente:\n",
    "![](images/direction-layer2.png)"
   ]
  },
  {
   "cell_type": "markdown",
   "metadata": {},
   "source": [
    "## 3er viaje mas frecuente:\n",
    "![](images/direction-layer3.png)"
   ]
  },
  {
   "cell_type": "markdown",
   "metadata": {},
   "source": [
    "### Este ultima imagen corresponde al 4to y 5to viaje mas frecuente ida y vuelta(ver tabla):\n",
    "![](images/direction-layer4.png)"
   ]
  }
 ],
 "metadata": {
  "kernelspec": {
   "display_name": "Python 3",
   "language": "python",
   "name": "python3"
  },
  "language_info": {
   "codemirror_mode": {
    "name": "ipython",
    "version": 3
   },
   "file_extension": ".py",
   "mimetype": "text/x-python",
   "name": "python",
   "nbconvert_exporter": "python",
   "pygments_lexer": "ipython3",
   "version": "3.6.0"
  }
 },
 "nbformat": 4,
 "nbformat_minor": 2
}
