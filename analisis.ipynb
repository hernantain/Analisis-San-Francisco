{
 "cells": [
  {
   "cell_type": "markdown",
   "metadata": {},
   "source": [
    "# Análisis Exploratorio: San Francisco Bay Bike Rental"
   ]
  },
  {
   "cell_type": "code",
   "execution_count": 3,
   "metadata": {
    "collapsed": true
   },
   "outputs": [],
   "source": [
    "import pandas as pd\n",
    "import seaborn as sns\n",
    "import numpy as np\n",
    "import matplotlib.pyplot as plt\n",
    "%matplotlib inline"
   ]
  },
  {
   "cell_type": "code",
   "execution_count": 4,
   "metadata": {
    "collapsed": false
   },
   "outputs": [],
   "source": [
    "trip_meta = pd.read_csv('data/trip.csv')\n",
    "weather_meta = pd.read_csv('data/weather.csv')"
   ]
  },
  {
   "cell_type": "code",
   "execution_count": 5,
   "metadata": {
    "collapsed": true
   },
   "outputs": [],
   "source": [
    "pd.options.mode.chained_assignment = None"
   ]
  },
  {
   "cell_type": "markdown",
   "metadata": {},
   "source": [
    "### Convierto las fechas a datetime"
   ]
  },
  {
   "cell_type": "code",
   "execution_count": 6,
   "metadata": {
    "collapsed": true
   },
   "outputs": [],
   "source": [
    "trip_meta['start_date'] = pd.to_datetime(trip_meta['start_date'])"
   ]
  },
  {
   "cell_type": "code",
   "execution_count": 4,
   "metadata": {
    "collapsed": true
   },
   "outputs": [],
   "source": [
    "trip_meta['end_date'] = pd.to_datetime(trip_meta['end_date'])"
   ]
  },
  {
   "cell_type": "code",
   "execution_count": 7,
   "metadata": {
    "collapsed": false
   },
   "outputs": [],
   "source": [
    "import datetime\n",
    "from datetime import date,time"
   ]
  },
  {
   "cell_type": "code",
   "execution_count": 8,
   "metadata": {
    "collapsed": false
   },
   "outputs": [],
   "source": [
    "#Saco los horarios de las fechas para analizar primero los viajes que son realizados durante el mismo dia\n",
    "trip_meta['start_date2'] = trip_meta.start_date.apply(lambda x: datetime.datetime(x.year, x.month, x.day,0,0))\n",
    "#trip_meta['end_date2'] = trip_meta.end_date.apply(lambda x: datetime.datetime(x.year, x.month, x.day,0,0))"
   ]
  },
  {
   "cell_type": "code",
   "execution_count": 12,
   "metadata": {
    "collapsed": false
   },
   "outputs": [
    {
     "name": "stdout",
     "output_type": "stream",
     "text": [
      "<class 'pandas.core.frame.DataFrame'>\n",
      "RangeIndex: 669959 entries, 0 to 669958\n",
      "Data columns (total 14 columns):\n",
      "id                    669959 non-null int64\n",
      "duration              669959 non-null int64\n",
      "start_date            669959 non-null datetime64[ns]\n",
      "start_station_name    669959 non-null object\n",
      "start_station_id      669959 non-null int64\n",
      "end_date              669959 non-null datetime64[ns]\n",
      "end_station_name      669959 non-null object\n",
      "end_station_id        669959 non-null int64\n",
      "bike_id               669959 non-null int64\n",
      "subscription_type     669959 non-null object\n",
      "zip_code              663340 non-null object\n",
      "start_date2           669959 non-null datetime64[ns]\n",
      "end_date2             669959 non-null datetime64[ns]\n",
      "weekday               669959 non-null int64\n",
      "dtypes: datetime64[ns](4), int64(6), object(4)\n",
      "memory usage: 71.6+ MB\n"
     ]
    }
   ],
   "source": [
    "trip_meta.info()"
   ]
  },
  {
   "cell_type": "code",
   "execution_count": 13,
   "metadata": {
    "collapsed": true
   },
   "outputs": [],
   "source": [
    "same_day = trip_meta.loc[trip_meta.start_date2 == trip_meta.end_date2,['id','duration','start_date2','end_date2','start_station_name','start_station_id','end_station_name','end_station_id']]"
   ]
  },
  {
   "cell_type": "code",
   "execution_count": 14,
   "metadata": {
    "collapsed": false
   },
   "outputs": [
    {
     "name": "stdout",
     "output_type": "stream",
     "text": [
      "<class 'pandas.core.frame.DataFrame'>\n",
      "Int64Index: 667860 entries, 0 to 669958\n",
      "Data columns (total 8 columns):\n",
      "id                    667860 non-null int64\n",
      "duration              667860 non-null int64\n",
      "start_date2           667860 non-null datetime64[ns]\n",
      "end_date2             667860 non-null datetime64[ns]\n",
      "start_station_name    667860 non-null object\n",
      "start_station_id      667860 non-null int64\n",
      "end_station_name      667860 non-null object\n",
      "end_station_id        667860 non-null int64\n",
      "dtypes: datetime64[ns](2), int64(4), object(2)\n",
      "memory usage: 45.9+ MB\n"
     ]
    }
   ],
   "source": [
    "same_day.info()"
   ]
  },
  {
   "cell_type": "markdown",
   "metadata": {},
   "source": [
    "### Son 2099 los viajes que duran mas de 1 dia"
   ]
  },
  {
   "cell_type": "code",
   "execution_count": 15,
   "metadata": {
    "collapsed": false
   },
   "outputs": [
    {
     "name": "stdout",
     "output_type": "stream",
     "text": [
      "2099\n"
     ]
    }
   ],
   "source": [
    "print len(trip_meta) - len(same_day)"
   ]
  },
  {
   "cell_type": "code",
   "execution_count": 16,
   "metadata": {
    "collapsed": false
   },
   "outputs": [
    {
     "data": {
      "text/html": [
       "<div>\n",
       "<table border=\"1\" class=\"dataframe\">\n",
       "  <thead>\n",
       "    <tr style=\"text-align: right;\">\n",
       "      <th></th>\n",
       "      <th>id</th>\n",
       "      <th>duration</th>\n",
       "      <th>start_station_id</th>\n",
       "      <th>end_station_id</th>\n",
       "    </tr>\n",
       "  </thead>\n",
       "  <tbody>\n",
       "    <tr>\n",
       "      <th>count</th>\n",
       "      <td>667860.000000</td>\n",
       "      <td>667860.000000</td>\n",
       "      <td>667860.000000</td>\n",
       "      <td>667860.00000</td>\n",
       "    </tr>\n",
       "    <tr>\n",
       "      <th>mean</th>\n",
       "      <td>460563.297664</td>\n",
       "      <td>896.212209</td>\n",
       "      <td>57.877699</td>\n",
       "      <td>57.85896</td>\n",
       "    </tr>\n",
       "    <tr>\n",
       "      <th>std</th>\n",
       "      <td>264565.577399</td>\n",
       "      <td>2190.634652</td>\n",
       "      <td>17.088461</td>\n",
       "      <td>17.17720</td>\n",
       "    </tr>\n",
       "    <tr>\n",
       "      <th>min</th>\n",
       "      <td>4069.000000</td>\n",
       "      <td>60.000000</td>\n",
       "      <td>2.000000</td>\n",
       "      <td>2.00000</td>\n",
       "    </tr>\n",
       "    <tr>\n",
       "      <th>25%</th>\n",
       "      <td>231317.750000</td>\n",
       "      <td>344.000000</td>\n",
       "      <td>50.000000</td>\n",
       "      <td>50.00000</td>\n",
       "    </tr>\n",
       "    <tr>\n",
       "      <th>50%</th>\n",
       "      <td>459550.000000</td>\n",
       "      <td>516.000000</td>\n",
       "      <td>62.000000</td>\n",
       "      <td>62.00000</td>\n",
       "    </tr>\n",
       "    <tr>\n",
       "      <th>75%</th>\n",
       "      <td>692844.250000</td>\n",
       "      <td>753.000000</td>\n",
       "      <td>70.000000</td>\n",
       "      <td>70.00000</td>\n",
       "    </tr>\n",
       "    <tr>\n",
       "      <th>max</th>\n",
       "      <td>913460.000000</td>\n",
       "      <td>83409.000000</td>\n",
       "      <td>84.000000</td>\n",
       "      <td>84.00000</td>\n",
       "    </tr>\n",
       "  </tbody>\n",
       "</table>\n",
       "</div>"
      ],
      "text/plain": [
       "                  id       duration  start_station_id  end_station_id\n",
       "count  667860.000000  667860.000000     667860.000000    667860.00000\n",
       "mean   460563.297664     896.212209         57.877699        57.85896\n",
       "std    264565.577399    2190.634652         17.088461        17.17720\n",
       "min      4069.000000      60.000000          2.000000         2.00000\n",
       "25%    231317.750000     344.000000         50.000000        50.00000\n",
       "50%    459550.000000     516.000000         62.000000        62.00000\n",
       "75%    692844.250000     753.000000         70.000000        70.00000\n",
       "max    913460.000000   83409.000000         84.000000        84.00000"
      ]
     },
     "execution_count": 16,
     "metadata": {},
     "output_type": "execute_result"
    }
   ],
   "source": [
    "same_day.describe()"
   ]
  },
  {
   "cell_type": "markdown",
   "metadata": {},
   "source": [
    "### Filtro los viajes que duran menos de 5 minutos"
   ]
  },
  {
   "cell_type": "code",
   "execution_count": 17,
   "metadata": {
    "collapsed": true
   },
   "outputs": [],
   "source": [
    "trips_longer = same_day.loc[same_day.duration > 300,:]"
   ]
  },
  {
   "cell_type": "code",
   "execution_count": 18,
   "metadata": {
    "collapsed": false
   },
   "outputs": [
    {
     "name": "stdout",
     "output_type": "stream",
     "text": [
      "<class 'pandas.core.frame.DataFrame'>\n",
      "Int64Index: 542405 entries, 100 to 669958\n",
      "Data columns (total 8 columns):\n",
      "id                    542405 non-null int64\n",
      "duration              542405 non-null int64\n",
      "start_date2           542405 non-null datetime64[ns]\n",
      "end_date2             542405 non-null datetime64[ns]\n",
      "start_station_name    542405 non-null object\n",
      "start_station_id      542405 non-null int64\n",
      "end_station_name      542405 non-null object\n",
      "end_station_id        542405 non-null int64\n",
      "dtypes: datetime64[ns](2), int64(4), object(2)\n",
      "memory usage: 37.2+ MB\n"
     ]
    }
   ],
   "source": [
    "trips_longer.info()"
   ]
  },
  {
   "cell_type": "code",
   "execution_count": 19,
   "metadata": {
    "collapsed": false
   },
   "outputs": [
    {
     "name": "stderr",
     "output_type": "stream",
     "text": [
      "/home/hernan/anaconda2/lib/python2.7/site-packages/pandas/core/generic.py:2773: SettingWithCopyWarning: \n",
      "A value is trying to be set on a copy of a slice from a DataFrame.\n",
      "Try using .loc[row_indexer,col_indexer] = value instead\n",
      "\n",
      "See the caveats in the documentation: http://pandas.pydata.org/pandas-docs/stable/indexing.html#indexing-view-versus-copy\n",
      "  self[name] = value\n"
     ]
    }
   ],
   "source": [
    "trips_longer.duration = trips_longer.duration.apply(lambda x: x/60.0)"
   ]
  },
  {
   "cell_type": "markdown",
   "metadata": {},
   "source": [
    "### Son 125455 los viajes que duran menos de 5 min"
   ]
  },
  {
   "cell_type": "code",
   "execution_count": 20,
   "metadata": {
    "collapsed": false,
    "scrolled": true
   },
   "outputs": [
    {
     "name": "stdout",
     "output_type": "stream",
     "text": [
      "125455\n"
     ]
    }
   ],
   "source": [
    "print len(same_day) - len(trips_longer)"
   ]
  },
  {
   "cell_type": "markdown",
   "metadata": {},
   "source": [
    "### Convierto a datetime la fecha en el DF weather"
   ]
  },
  {
   "cell_type": "code",
   "execution_count": 21,
   "metadata": {
    "collapsed": true
   },
   "outputs": [],
   "source": [
    "weather_meta['date'] = pd.to_datetime(weather_meta['date'])"
   ]
  },
  {
   "cell_type": "markdown",
   "metadata": {},
   "source": [
    "# Analizo la cantidad de viajes segun la temperatura"
   ]
  },
  {
   "cell_type": "code",
   "execution_count": 348,
   "metadata": {
    "collapsed": true
   },
   "outputs": [],
   "source": [
    "temperatures = weather_meta[['date','max_temperature_f','mean_temperature_f','min_temperature_f']]"
   ]
  },
  {
   "cell_type": "code",
   "execution_count": 349,
   "metadata": {
    "collapsed": false
   },
   "outputs": [],
   "source": [
    "# Paso la temperatura a Celsius\n",
    "temperatures.max_temperature_f = temperatures.max_temperature_f.apply(lambda x: (x-32) / 1.8)\n",
    "temperatures.mean_temperature_f = temperatures.mean_temperature_f.apply(lambda x: (x-32) / 1.8)\n",
    "temperatures.min_temperature_f = temperatures.min_temperature_f.apply(lambda x: (x-32) / 1.8)"
   ]
  },
  {
   "cell_type": "code",
   "execution_count": 350,
   "metadata": {
    "collapsed": false
   },
   "outputs": [],
   "source": [
    "temperatures.rename(\n",
    "    columns={'max_temperature_f':'max_temperature_c','mean_temperature_f':'mean_temperature_c','min_temperature_f':'min_temperature_c'},inplace=True)"
   ]
  },
  {
   "cell_type": "code",
   "execution_count": 351,
   "metadata": {
    "collapsed": false
   },
   "outputs": [],
   "source": [
    "temperatures_avg = temperatures.groupby('date').mean()\n",
    "temperatures_avg = pd.DataFrame(temperatures_avg.to_records())"
   ]
  },
  {
   "cell_type": "code",
   "execution_count": 352,
   "metadata": {
    "collapsed": false
   },
   "outputs": [],
   "source": [
    "final = trips_longer[['id', 'duration', 'start_date2', 'start_station_name','end_station_name']]\n",
    "final.rename(columns={'start_date2':'date','duration':'duration(min)'},inplace=True)"
   ]
  },
  {
   "cell_type": "code",
   "execution_count": 353,
   "metadata": {
    "collapsed": false
   },
   "outputs": [],
   "source": [
    "date_duration = final.loc[:,['duration(min)','date']].groupby('date').agg([np.size])\n",
    "date_duration = pd.DataFrame(date_duration.to_records())\n",
    "date_duration.columns=['date','# trips']"
   ]
  },
  {
   "cell_type": "code",
   "execution_count": 355,
   "metadata": {
    "collapsed": false
   },
   "outputs": [
    {
     "data": {
      "image/png": "[encoded data removed]",
      "text/plain": [
       "<matplotlib.figure.Figure at 0x7f1dbbe0a310>"
      ]
     },
     "metadata": {},
     "output_type": "display_data"
    }
   ],
   "source": [
    "duration_temperature = pd.merge(date_duration,temperatures_avg,how='inner',on='date')\n",
    "duration_temperature['weekday'] = duration_temperature.date.apply(lambda x: x.weekday())\n",
    "duration_temperature_weekdays = duration_temperature\\\n",
    "                        .loc[(duration_temperature.weekday != 5) & (duration_temperature.weekday != 6),:]\n",
    "\n",
    "duration_temperature_weekdays = duration_temperature_weekdays\\\n",
    "                        [['# trips','date','max_temperature_c','mean_temperature_c','min_temperature_c']]\n",
    "    \n",
    "trips_temperature = duration_temperature_weekdays.\\\n",
    "                groupby(pd.cut(duration_temperature_weekdays['mean_temperature_c'], np.arange(3,28))).sum()\n",
    "\n",
    "f = plt.figure()\n",
    "ax = trips_temperature['# trips'].plot.bar(figsize=(15,8),colormap='autumn',layout=('# trips','Mean Temperature (C)'), ax=f.gca())\n",
    "ax.set_ylabel('# Trips');\n",
    "ax.set_xlabel('Mean Temperature (C)');\n",
    "plt.title('Cantidad de alquileres segun la temperatura los dias de semana')\n",
    "plt.show()"
   ]
  },
  {
   "cell_type": "markdown",
   "metadata": {},
   "source": [
    "# ---------------------------------------------------------------------------------------------------------"
   ]
  },
  {
   "cell_type": "markdown",
   "metadata": {},
   "source": [
    "# Alquiler de bicicletas por hora"
   ]
  },
  {
   "cell_type": "code",
   "execution_count": 31,
   "metadata": {
    "collapsed": true
   },
   "outputs": [],
   "source": [
    "trip_meta['hour'] = trip_meta.start_date.apply(lambda x: x.hour)"
   ]
  },
  {
   "cell_type": "code",
   "execution_count": 32,
   "metadata": {
    "collapsed": false
   },
   "outputs": [
    {
     "data": {
      "text/plain": [
       "<matplotlib.text.Text at 0x7f1dbcda7510>"
      ]
     },
     "execution_count": 32,
     "metadata": {},
     "output_type": "execute_result"
    },
    {
     "data": {
      "image/png": "[encoded data removed]",
      "text/plain": [
       "<matplotlib.figure.Figure at 0x7f1db8e72710>"
      ]
     },
     "metadata": {},
     "output_type": "display_data"
    }
   ],
   "source": [
    "ax = trip_meta.groupby('hour').size().plot(kind='bar',figsize=(15,8))\n",
    "ax.set_ylabel('# Trips')\n",
    "ax.set_xlabel('Hour')"
   ]
  },
  {
   "cell_type": "markdown",
   "metadata": {},
   "source": [
    "# ------------------------------------------------------------------------------------------------------"
   ]
  },
  {
   "cell_type": "markdown",
   "metadata": {},
   "source": [
    "# Alquiler de bicicletas segun la lluvia, los dias de semana"
   ]
  },
  {
   "cell_type": "code",
   "execution_count": 325,
   "metadata": {
    "collapsed": false
   },
   "outputs": [],
   "source": [
    "precipitation = weather_meta[['date','precipitation_inches']]"
   ]
  },
  {
   "cell_type": "code",
   "execution_count": 326,
   "metadata": {
    "collapsed": false
   },
   "outputs": [],
   "source": [
    "precipitation.columns = ['date','inches']"
   ]
  },
  {
   "cell_type": "code",
   "execution_count": 327,
   "metadata": {
    "collapsed": false
   },
   "outputs": [],
   "source": [
    "precipitation = precipitation.loc[precipitation.inches != 'T',:]\n",
    "precipitation.inches = pd.to_numeric(precipitation.inches)"
   ]
  },
  {
   "cell_type": "code",
   "execution_count": 328,
   "metadata": {
    "collapsed": true
   },
   "outputs": [],
   "source": [
    "precipitation = precipitation.groupby('date').mean()\n",
    "precipitation = pd.DataFrame(precipitation.to_records())"
   ]
  },
  {
   "cell_type": "code",
   "execution_count": 329,
   "metadata": {
    "collapsed": false
   },
   "outputs": [],
   "source": [
    "precipitation_trips = pd.merge(date_duration,precipitation,how='inner',on='date')"
   ]
  },
  {
   "cell_type": "code",
   "execution_count": 332,
   "metadata": {
    "collapsed": false
   },
   "outputs": [],
   "source": [
    "precipitation_trips = precipitation_trips[['# trips','date','inches']]"
   ]
  },
  {
   "cell_type": "code",
   "execution_count": 333,
   "metadata": {
    "collapsed": true
   },
   "outputs": [],
   "source": [
    "precipitation_trips['weekday'] = precipitation_trips.date.apply(lambda x: x.weekday())\n",
    "precipitation_trips = precipitation_trips.loc[(precipitation_trips.weekday != 5) & (precipitation_trips.weekday != 6),:]"
   ]
  },
  {
   "cell_type": "code",
   "execution_count": 340,
   "metadata": {
    "collapsed": false
   },
   "outputs": [
    {
     "data": {
      "image/png": "[encoded data removed]",
      "text/plain": [
       "<matplotlib.figure.Figure at 0x7f1dbb9b5610>"
      ]
     },
     "metadata": {},
     "output_type": "display_data"
    }
   ],
   "source": [
    "precipitation_trips_plot = precipitation_trips.\\\n",
    "                groupby(pd.cut(precipitation_trips['inches'], np.arange(0, 1.1, 0.045))).sum()\n",
    "\n",
    "f = plt.figure()\n",
    "ax = precipitation_trips_plot['# trips'].plot.bar(figsize=(15,8),colormap='seismic',ax=f.gca())\n",
    "ax.set_ylabel('# Trips');\n",
    "ax.set_xlabel('Precipitation Inches');\n",
    "plt.title('Cantidad de alquileres segun la lluvia los dias de semana')\n",
    "plt.show()"
   ]
  },
  {
   "cell_type": "markdown",
   "metadata": {},
   "source": [
    "# Cantidad de alquileres por dia y la duracion promedio de los mismos."
   ]
  },
  {
   "cell_type": "code",
   "execution_count": 292,
   "metadata": {
    "collapsed": false
   },
   "outputs": [],
   "source": [
    "dif_day_trips = final[['duration(min)','date']]\n",
    "dif_day_trips['weekday'] = dif_day_trips.date.apply(lambda x: x.weekday())"
   ]
  },
  {
   "cell_type": "code",
   "execution_count": 14,
   "metadata": {
    "collapsed": false
   },
   "outputs": [],
   "source": [
    "def dia(x):\n",
    "    if x==0:\n",
    "        return 'Lunes'\n",
    "    if x==1:\n",
    "        return 'Martes'\n",
    "    if x==2:\n",
    "        return 'Miercoles'\n",
    "    if x==3:\n",
    "        return 'Jueves'\n",
    "    if x==4:\n",
    "        return 'Viernes'\n",
    "    if x==5:\n",
    "        return 'Sabado'\n",
    "    if x==6:\n",
    "        return 'Domingo'"
   ]
  },
  {
   "cell_type": "code",
   "execution_count": 294,
   "metadata": {
    "collapsed": false
   },
   "outputs": [],
   "source": [
    "dif_day_trips['weekday'] = dif_day_trips['weekday'].apply(dia)"
   ]
  },
  {
   "cell_type": "code",
   "execution_count": 296,
   "metadata": {
    "collapsed": false
   },
   "outputs": [],
   "source": [
    "dif_day_trips = dif_day_trips[['duration(min)','weekday']]"
   ]
  },
  {
   "cell_type": "code",
   "execution_count": 309,
   "metadata": {
    "collapsed": false
   },
   "outputs": [
    {
     "data": {
      "text/html": [
       "<div>\n",
       "<table border=\"1\" class=\"dataframe\">\n",
       "  <thead>\n",
       "    <tr>\n",
       "      <th></th>\n",
       "      <th colspan=\"2\" halign=\"left\">duration(min)</th>\n",
       "    </tr>\n",
       "    <tr>\n",
       "      <th></th>\n",
       "      <th>mean</th>\n",
       "      <th>size</th>\n",
       "    </tr>\n",
       "    <tr>\n",
       "      <th>weekday</th>\n",
       "      <th></th>\n",
       "      <th></th>\n",
       "    </tr>\n",
       "  </thead>\n",
       "  <tbody>\n",
       "    <tr>\n",
       "      <th>Domingo</th>\n",
       "      <td>36.838362</td>\n",
       "      <td>33548.0</td>\n",
       "    </tr>\n",
       "    <tr>\n",
       "      <th>Jueves</th>\n",
       "      <td>14.532981</td>\n",
       "      <td>95503.0</td>\n",
       "    </tr>\n",
       "    <tr>\n",
       "      <th>Lunes</th>\n",
       "      <td>14.507142</td>\n",
       "      <td>92669.0</td>\n",
       "    </tr>\n",
       "    <tr>\n",
       "      <th>Martes</th>\n",
       "      <td>14.021545</td>\n",
       "      <td>97411.0</td>\n",
       "    </tr>\n",
       "    <tr>\n",
       "      <th>Miercoles</th>\n",
       "      <td>14.322358</td>\n",
       "      <td>96160.0</td>\n",
       "    </tr>\n",
       "    <tr>\n",
       "      <th>Sabado</th>\n",
       "      <td>34.903722</td>\n",
       "      <td>38940.0</td>\n",
       "    </tr>\n",
       "    <tr>\n",
       "      <th>Viernes</th>\n",
       "      <td>16.256842</td>\n",
       "      <td>88174.0</td>\n",
       "    </tr>\n",
       "  </tbody>\n",
       "</table>\n",
       "</div>"
      ],
      "text/plain": [
       "          duration(min)         \n",
       "                   mean     size\n",
       "weekday                         \n",
       "Domingo       36.838362  33548.0\n",
       "Jueves        14.532981  95503.0\n",
       "Lunes         14.507142  92669.0\n",
       "Martes        14.021545  97411.0\n",
       "Miercoles     14.322358  96160.0\n",
       "Sabado        34.903722  38940.0\n",
       "Viernes       16.256842  88174.0"
      ]
     },
     "execution_count": 309,
     "metadata": {},
     "output_type": "execute_result"
    }
   ],
   "source": [
    "trips_by_day = dif_day_trips.groupby('weekday').agg([np.mean,np.size])\n",
    "trips_by_day"
   ]
  },
  {
   "cell_type": "code",
   "execution_count": 318,
   "metadata": {
    "collapsed": false
   },
   "outputs": [],
   "source": [
    "dif_day_trips_cant = pd.DataFrame(trips_by_day.to_records())\n",
    "dif_day_trips_cant.columns = ['weekday','avg trip','trips']\n",
    "dif_day_trips_avg = dif_day_trips_cant[['weekday','avg trip']]\n",
    "dif_day_trips_cant = dif_day_trips_cant[['weekday','trips']]"
   ]
  },
  {
   "cell_type": "markdown",
   "metadata": {
    "collapsed": false
   },
   "source": [
    "## Cantidad de alquileres por dia"
   ]
  },
  {
   "cell_type": "code",
   "execution_count": 336,
   "metadata": {
    "collapsed": false
   },
   "outputs": [
    {
     "data": {
      "text/plain": [
       "<matplotlib.axes._subplots.AxesSubplot at 0x7f1dbbf17690>"
      ]
     },
     "execution_count": 336,
     "metadata": {},
     "output_type": "execute_result"
    },
    {
     "data": {
      "image/png": "[encoded data removed]",
      "text/plain": [
       "<matplotlib.figure.Figure at 0x7f1dbbe76a10>"
      ]
     },
     "metadata": {},
     "output_type": "display_data"
    }
   ],
   "source": [
    "dif_day_trips_cant.sort_values('trips').plot(x='weekday',y='trips',kind='bar',figsize=(12,6))"
   ]
  },
  {
   "cell_type": "markdown",
   "metadata": {},
   "source": [
    "## Duracion promedio de los alquileres por dia"
   ]
  },
  {
   "cell_type": "code",
   "execution_count": 337,
   "metadata": {
    "collapsed": false,
    "scrolled": true
   },
   "outputs": [
    {
     "data": {
      "text/plain": [
       "<matplotlib.axes._subplots.AxesSubplot at 0x7f1dbbd46d90>"
      ]
     },
     "execution_count": 337,
     "metadata": {},
     "output_type": "execute_result"
    },
    {
     "data": {
      "image/png": "[encoded data removed]",
      "text/plain": [
       "<matplotlib.figure.Figure at 0x7f1dbbc50d90>"
      ]
     },
     "metadata": {},
     "output_type": "display_data"
    }
   ],
   "source": [
    "dif_day_trips_avg.sort_values('avg trip',ascending=False).plot(x='weekday',y='avg trip',kind='bar',figsize=(12,6))"
   ]
  },
  {
   "cell_type": "markdown",
   "metadata": {
    "collapsed": true
   },
   "source": [
    "# Estaciones más populares"
   ]
  },
  {
   "cell_type": "code",
   "execution_count": 23,
   "metadata": {
    "collapsed": false
   },
   "outputs": [
    {
     "data": {
      "text/html": [
       "<div>\n",
       "<table border=\"1\" class=\"dataframe\">\n",
       "  <thead>\n",
       "    <tr style=\"text-align: right;\">\n",
       "      <th></th>\n",
       "      <th>start_station_name</th>\n",
       "      <th>end_station_name</th>\n",
       "    </tr>\n",
       "  </thead>\n",
       "  <tbody>\n",
       "    <tr>\n",
       "      <th>0</th>\n",
       "      <td>South Van Ness at Market</td>\n",
       "      <td>South Van Ness at Market</td>\n",
       "    </tr>\n",
       "    <tr>\n",
       "      <th>1</th>\n",
       "      <td>San Jose City Hall</td>\n",
       "      <td>San Jose City Hall</td>\n",
       "    </tr>\n",
       "    <tr>\n",
       "      <th>2</th>\n",
       "      <td>Mountain View City Hall</td>\n",
       "      <td>Mountain View City Hall</td>\n",
       "    </tr>\n",
       "    <tr>\n",
       "      <th>3</th>\n",
       "      <td>San Jose City Hall</td>\n",
       "      <td>San Jose City Hall</td>\n",
       "    </tr>\n",
       "    <tr>\n",
       "      <th>4</th>\n",
       "      <td>South Van Ness at Market</td>\n",
       "      <td>Market at 10th</td>\n",
       "    </tr>\n",
       "  </tbody>\n",
       "</table>\n",
       "</div>"
      ],
      "text/plain": [
       "         start_station_name          end_station_name\n",
       "0  South Van Ness at Market  South Van Ness at Market\n",
       "1        San Jose City Hall        San Jose City Hall\n",
       "2   Mountain View City Hall   Mountain View City Hall\n",
       "3        San Jose City Hall        San Jose City Hall\n",
       "4  South Van Ness at Market            Market at 10th"
      ]
     },
     "execution_count": 23,
     "metadata": {},
     "output_type": "execute_result"
    }
   ],
   "source": [
    "station_stats = trip_meta[['start_station_name','end_station_name']]\n",
    "station_stats.head()"
   ]
  },
  {
   "cell_type": "code",
   "execution_count": 40,
   "metadata": {
    "collapsed": false
   },
   "outputs": [
    {
     "data": {
      "text/plain": [
       "San Francisco Caltrain (Townsend at 4th)    112271\n",
       "San Francisco Caltrain 2 (330 Townsend)      68859\n",
       "Harry Bridges Plaza (Ferry Building)         66127\n",
       "Embarcadero at Sansome                       58509\n",
       "2nd at Townsend                              54366\n",
       "dtype: object"
      ]
     },
     "execution_count": 40,
     "metadata": {},
     "output_type": "execute_result"
    }
   ],
   "source": [
    "station_stats['station_name'] = pd.concat([trip_meta['start_station_name'], trip_meta['end_station_name']])\n",
    "station_stats.head()"
   ]
  },
  {
   "cell_type": "code",
   "execution_count": 41,
   "metadata": {
    "collapsed": false
   },
   "outputs": [
    {
     "data": {
      "image/png": "[encoded data removed]",
      "text/plain": [
       "<matplotlib.figure.Figure at 0x7f4a01ed3f10>"
      ]
     },
     "metadata": {},
     "output_type": "display_data"
    }
   ],
   "source": [
    "# TOP 20 Estaciones mas populares\n",
    "station_stats = station_stats['station_name'].value_counts().head(20)\n",
    "station_stats.plot(kind='bar',rot=90,figsize=(12,8));"
   ]
  },
  {
   "cell_type": "markdown",
   "metadata": {},
   "source": [
    "## Estaciones más populares por día"
   ]
  },
  {
   "cell_type": "code",
   "execution_count": 30,
   "metadata": {
    "collapsed": false
   },
   "outputs": [],
   "source": [
    "popular_stations = trip_meta[['start_date','start_station_name','duration']]"
   ]
  },
  {
   "cell_type": "code",
   "execution_count": 31,
   "metadata": {
    "collapsed": false
   },
   "outputs": [
    {
     "data": {
      "text/html": [
       "<div>\n",
       "<table border=\"1\" class=\"dataframe\">\n",
       "  <thead>\n",
       "    <tr style=\"text-align: right;\">\n",
       "      <th></th>\n",
       "      <th>start_date</th>\n",
       "      <th>start_station_name</th>\n",
       "      <th>duration</th>\n",
       "    </tr>\n",
       "  </thead>\n",
       "  <tbody>\n",
       "    <tr>\n",
       "      <th>100</th>\n",
       "      <td>2013-08-29 17:22:00</td>\n",
       "      <td>Civic Center BART (7th at Market)</td>\n",
       "      <td>305</td>\n",
       "    </tr>\n",
       "    <tr>\n",
       "      <th>101</th>\n",
       "      <td>2013-08-29 12:12:00</td>\n",
       "      <td>University and Emerson</td>\n",
       "      <td>307</td>\n",
       "    </tr>\n",
       "    <tr>\n",
       "      <th>102</th>\n",
       "      <td>2013-08-29 11:53:00</td>\n",
       "      <td>San Francisco City Hall</td>\n",
       "      <td>309</td>\n",
       "    </tr>\n",
       "    <tr>\n",
       "      <th>103</th>\n",
       "      <td>2013-08-29 11:58:00</td>\n",
       "      <td>Powell Street BART</td>\n",
       "      <td>309</td>\n",
       "    </tr>\n",
       "    <tr>\n",
       "      <th>104</th>\n",
       "      <td>2013-08-29 18:09:00</td>\n",
       "      <td>2nd at Townsend</td>\n",
       "      <td>309</td>\n",
       "    </tr>\n",
       "  </tbody>\n",
       "</table>\n",
       "</div>"
      ],
      "text/plain": [
       "             start_date                 start_station_name  duration\n",
       "100 2013-08-29 17:22:00  Civic Center BART (7th at Market)       305\n",
       "101 2013-08-29 12:12:00             University and Emerson       307\n",
       "102 2013-08-29 11:53:00            San Francisco City Hall       309\n",
       "103 2013-08-29 11:58:00                 Powell Street BART       309\n",
       "104 2013-08-29 18:09:00                    2nd at Townsend       309"
      ]
     },
     "execution_count": 31,
     "metadata": {},
     "output_type": "execute_result"
    }
   ],
   "source": [
    "# Filtro los viajes que duran menos de 5 minutos\n",
    "popular_stations = popular_stations.loc[popular_stations.duration > 300,:]\n",
    "popular_stations.head()"
   ]
  },
  {
   "cell_type": "code",
   "execution_count": 32,
   "metadata": {
    "collapsed": false
   },
   "outputs": [],
   "source": [
    "popular_stations = popular_stations[['start_date','start_station_name']]\n",
    "popular_stations.rename(columns={'start_date':'date','start_station_name':'station'},inplace=True)"
   ]
  },
  {
   "cell_type": "code",
   "execution_count": 33,
   "metadata": {
    "collapsed": false
   },
   "outputs": [],
   "source": [
    "popular_stations['weekday'] = popular_stations.date.apply(lambda x: x.weekday())"
   ]
  },
  {
   "cell_type": "code",
   "execution_count": 34,
   "metadata": {
    "collapsed": false
   },
   "outputs": [],
   "source": [
    "popular_stations['weekday'] = popular_stations['weekday'].apply(dia)\n",
    "popular_stations = popular_stations[['station','weekday']]"
   ]
  },
  {
   "cell_type": "code",
   "execution_count": 36,
   "metadata": {
    "collapsed": false
   },
   "outputs": [
    {
     "name": "stdout",
     "output_type": "stream",
     "text": [
      "<pandas.core.groupby.DataFrameGroupBy object at 0x7f3b441bc650>\n"
     ]
    }
   ],
   "source": [
    "print popular_stations.groupby('weekday')"
   ]
  },
  {
   "cell_type": "code",
   "execution_count": null,
   "metadata": {
    "collapsed": true
   },
   "outputs": [],
   "source": []
  }
 ],
 "metadata": {
  "kernelspec": {
   "display_name": "Python 2",
   "language": "python",
   "name": "python2"
  },
  "language_info": {
   "codemirror_mode": {
    "name": "ipython",
    "version": 2
   },
   "file_extension": ".py",
   "mimetype": "text/x-python",
   "name": "python",
   "nbconvert_exporter": "python",
   "pygments_lexer": "ipython2",
   "version": "2.7.13"
  }
 },
 "nbformat": 4,
 "nbformat_minor": 2
}
