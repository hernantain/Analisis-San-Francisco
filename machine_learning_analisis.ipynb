{
 "cells": [
  {
   "cell_type": "code",
   "execution_count": 1,
   "metadata": {
    "collapsed": false
   },
   "outputs": [],
   "source": [
    "import pandas as pd\n",
    "import numpy as np \n",
    "import seaborn as sns\n",
    "import matplotlib.pyplot as plt\n",
    "%matplotlib inline"
   ]
  },
  {
   "cell_type": "code",
   "execution_count": 2,
   "metadata": {
    "collapsed": true
   },
   "outputs": [],
   "source": [
    "import datetime\n",
    "from datetime import date,time"
   ]
  },
  {
   "cell_type": "code",
   "execution_count": 3,
   "metadata": {
    "collapsed": true
   },
   "outputs": [],
   "source": [
    "trips = pd.read_csv('data/trip_train.csv')"
   ]
  },
  {
   "cell_type": "code",
   "execution_count": 4,
   "metadata": {
    "collapsed": false
   },
   "outputs": [],
   "source": [
    "trips = trips.loc[(trips.duration < 86400) & (trips.duration > 60),:]"
   ]
  },
  {
   "cell_type": "code",
   "execution_count": 5,
   "metadata": {
    "collapsed": false
   },
   "outputs": [],
   "source": [
    "stations = pd.read_csv('data/station.csv')"
   ]
  },
  {
   "cell_type": "code",
   "execution_count": 6,
   "metadata": {
    "collapsed": true
   },
   "outputs": [],
   "source": [
    "weather = pd.read_csv('data/weather.csv')"
   ]
  },
  {
   "cell_type": "code",
   "execution_count": 7,
   "metadata": {
    "collapsed": false
   },
   "outputs": [
    {
     "data": {
      "text/html": [
       "<div>\n",
       "<table border=\"1\" class=\"dataframe\">\n",
       "  <thead>\n",
       "    <tr style=\"text-align: right;\">\n",
       "      <th></th>\n",
       "      <th>id</th>\n",
       "      <th>duration</th>\n",
       "      <th>start_station_id</th>\n",
       "      <th>end_station_id</th>\n",
       "      <th>bike_id</th>\n",
       "    </tr>\n",
       "  </thead>\n",
       "  <tbody>\n",
       "    <tr>\n",
       "      <th>count</th>\n",
       "      <td>549678.000000</td>\n",
       "      <td>549678.000000</td>\n",
       "      <td>549678.000000</td>\n",
       "      <td>549678.000000</td>\n",
       "      <td>549678.000000</td>\n",
       "    </tr>\n",
       "    <tr>\n",
       "      <th>mean</th>\n",
       "      <td>460465.882908</td>\n",
       "      <td>988.071158</td>\n",
       "      <td>57.858552</td>\n",
       "      <td>57.852372</td>\n",
       "      <td>427.650730</td>\n",
       "    </tr>\n",
       "    <tr>\n",
       "      <th>std</th>\n",
       "      <td>264592.676367</td>\n",
       "      <td>3274.619777</td>\n",
       "      <td>17.089553</td>\n",
       "      <td>17.176487</td>\n",
       "      <td>153.439782</td>\n",
       "    </tr>\n",
       "    <tr>\n",
       "      <th>min</th>\n",
       "      <td>4069.000000</td>\n",
       "      <td>61.000000</td>\n",
       "      <td>2.000000</td>\n",
       "      <td>2.000000</td>\n",
       "      <td>9.000000</td>\n",
       "    </tr>\n",
       "    <tr>\n",
       "      <th>25%</th>\n",
       "      <td>231330.250000</td>\n",
       "      <td>344.000000</td>\n",
       "      <td>50.000000</td>\n",
       "      <td>50.000000</td>\n",
       "      <td>334.000000</td>\n",
       "    </tr>\n",
       "    <tr>\n",
       "      <th>50%</th>\n",
       "      <td>459364.000000</td>\n",
       "      <td>516.000000</td>\n",
       "      <td>62.000000</td>\n",
       "      <td>62.000000</td>\n",
       "      <td>440.000000</td>\n",
       "    </tr>\n",
       "    <tr>\n",
       "      <th>75%</th>\n",
       "      <td>692679.750000</td>\n",
       "      <td>755.000000</td>\n",
       "      <td>70.000000</td>\n",
       "      <td>70.000000</td>\n",
       "      <td>546.000000</td>\n",
       "    </tr>\n",
       "    <tr>\n",
       "      <th>max</th>\n",
       "      <td>913459.000000</td>\n",
       "      <td>86363.000000</td>\n",
       "      <td>84.000000</td>\n",
       "      <td>84.000000</td>\n",
       "      <td>878.000000</td>\n",
       "    </tr>\n",
       "  </tbody>\n",
       "</table>\n",
       "</div>"
      ],
      "text/plain": [
       "                  id       duration  start_station_id  end_station_id  \\\n",
       "count  549678.000000  549678.000000     549678.000000   549678.000000   \n",
       "mean   460465.882908     988.071158         57.858552       57.852372   \n",
       "std    264592.676367    3274.619777         17.089553       17.176487   \n",
       "min      4069.000000      61.000000          2.000000        2.000000   \n",
       "25%    231330.250000     344.000000         50.000000       50.000000   \n",
       "50%    459364.000000     516.000000         62.000000       62.000000   \n",
       "75%    692679.750000     755.000000         70.000000       70.000000   \n",
       "max    913459.000000   86363.000000         84.000000       84.000000   \n",
       "\n",
       "             bike_id  \n",
       "count  549678.000000  \n",
       "mean      427.650730  \n",
       "std       153.439782  \n",
       "min         9.000000  \n",
       "25%       334.000000  \n",
       "50%       440.000000  \n",
       "75%       546.000000  \n",
       "max       878.000000  "
      ]
     },
     "execution_count": 7,
     "metadata": {},
     "output_type": "execute_result"
    }
   ],
   "source": [
    "trips.describe()"
   ]
  },
  {
   "cell_type": "code",
   "execution_count": 8,
   "metadata": {
    "collapsed": false
   },
   "outputs": [
    {
     "data": {
      "text/html": [
       "<div>\n",
       "<table border=\"1\" class=\"dataframe\">\n",
       "  <thead>\n",
       "    <tr>\n",
       "      <th></th>\n",
       "      <th>duration</th>\n",
       "    </tr>\n",
       "    <tr>\n",
       "      <th></th>\n",
       "      <th>mean</th>\n",
       "    </tr>\n",
       "    <tr>\n",
       "      <th>start_station_name</th>\n",
       "      <th></th>\n",
       "    </tr>\n",
       "  </thead>\n",
       "  <tbody>\n",
       "    <tr>\n",
       "      <th>2nd at Folsom</th>\n",
       "      <td>556.020567</td>\n",
       "    </tr>\n",
       "    <tr>\n",
       "      <th>2nd at South Park</th>\n",
       "      <td>684.895163</td>\n",
       "    </tr>\n",
       "    <tr>\n",
       "      <th>2nd at Townsend</th>\n",
       "      <td>755.608858</td>\n",
       "    </tr>\n",
       "    <tr>\n",
       "      <th>5th at Howard</th>\n",
       "      <td>895.687517</td>\n",
       "    </tr>\n",
       "    <tr>\n",
       "      <th>Adobe on Almaden</th>\n",
       "      <td>869.067961</td>\n",
       "    </tr>\n",
       "    <tr>\n",
       "      <th>Arena Green / SAP Center</th>\n",
       "      <td>1332.666947</td>\n",
       "    </tr>\n",
       "    <tr>\n",
       "      <th>Beale at Market</th>\n",
       "      <td>837.359614</td>\n",
       "    </tr>\n",
       "    <tr>\n",
       "      <th>Broadway St at Battery St</th>\n",
       "      <td>793.401409</td>\n",
       "    </tr>\n",
       "    <tr>\n",
       "      <th>Broadway at Main</th>\n",
       "      <td>2753.763636</td>\n",
       "    </tr>\n",
       "    <tr>\n",
       "      <th>California Ave Caltrain Station</th>\n",
       "      <td>2841.221818</td>\n",
       "    </tr>\n",
       "    <tr>\n",
       "      <th>Castro Street and El Camino Real</th>\n",
       "      <td>1439.077286</td>\n",
       "    </tr>\n",
       "    <tr>\n",
       "      <th>Civic Center BART (7th at Market)</th>\n",
       "      <td>1083.930360</td>\n",
       "    </tr>\n",
       "    <tr>\n",
       "      <th>Clay at Battery</th>\n",
       "      <td>1014.382613</td>\n",
       "    </tr>\n",
       "    <tr>\n",
       "      <th>Commercial at Montgomery</th>\n",
       "      <td>766.900900</td>\n",
       "    </tr>\n",
       "    <tr>\n",
       "      <th>Cowper at University</th>\n",
       "      <td>1514.630113</td>\n",
       "    </tr>\n",
       "    <tr>\n",
       "      <th>Davis at Jackson</th>\n",
       "      <td>887.165541</td>\n",
       "    </tr>\n",
       "    <tr>\n",
       "      <th>Embarcadero at Bryant</th>\n",
       "      <td>980.158071</td>\n",
       "    </tr>\n",
       "    <tr>\n",
       "      <th>Embarcadero at Folsom</th>\n",
       "      <td>817.279174</td>\n",
       "    </tr>\n",
       "    <tr>\n",
       "      <th>Embarcadero at Sansome</th>\n",
       "      <td>1381.101666</td>\n",
       "    </tr>\n",
       "    <tr>\n",
       "      <th>Embarcadero at Vallejo</th>\n",
       "      <td>1619.844036</td>\n",
       "    </tr>\n",
       "    <tr>\n",
       "      <th>Evelyn Park and Ride</th>\n",
       "      <td>1219.428155</td>\n",
       "    </tr>\n",
       "    <tr>\n",
       "      <th>Franklin at Maple</th>\n",
       "      <td>1749.553672</td>\n",
       "    </tr>\n",
       "    <tr>\n",
       "      <th>Golden Gate at Polk</th>\n",
       "      <td>1160.821216</td>\n",
       "    </tr>\n",
       "    <tr>\n",
       "      <th>Grant Avenue at Columbus Avenue</th>\n",
       "      <td>1089.419107</td>\n",
       "    </tr>\n",
       "    <tr>\n",
       "      <th>Harry Bridges Plaza (Ferry Building)</th>\n",
       "      <td>1381.020905</td>\n",
       "    </tr>\n",
       "    <tr>\n",
       "      <th>Howard at 2nd</th>\n",
       "      <td>689.311978</td>\n",
       "    </tr>\n",
       "    <tr>\n",
       "      <th>Japantown</th>\n",
       "      <td>1549.655061</td>\n",
       "    </tr>\n",
       "    <tr>\n",
       "      <th>MLK Library</th>\n",
       "      <td>1349.083032</td>\n",
       "    </tr>\n",
       "    <tr>\n",
       "      <th>Market at 10th</th>\n",
       "      <td>915.896897</td>\n",
       "    </tr>\n",
       "    <tr>\n",
       "      <th>Market at 4th</th>\n",
       "      <td>1228.209900</td>\n",
       "    </tr>\n",
       "    <tr>\n",
       "      <th>...</th>\n",
       "      <td>...</td>\n",
       "    </tr>\n",
       "    <tr>\n",
       "      <th>Redwood City Public Library</th>\n",
       "      <td>3821.929412</td>\n",
       "    </tr>\n",
       "    <tr>\n",
       "      <th>Rengstorff Avenue / California Street</th>\n",
       "      <td>2221.436893</td>\n",
       "    </tr>\n",
       "    <tr>\n",
       "      <th>Ryland Park</th>\n",
       "      <td>1043.378285</td>\n",
       "    </tr>\n",
       "    <tr>\n",
       "      <th>SJSU - San Salvador at 9th</th>\n",
       "      <td>1339.468439</td>\n",
       "    </tr>\n",
       "    <tr>\n",
       "      <th>SJSU 4th at San Carlos</th>\n",
       "      <td>1211.221286</td>\n",
       "    </tr>\n",
       "    <tr>\n",
       "      <th>San Antonio Caltrain Station</th>\n",
       "      <td>1871.777913</td>\n",
       "    </tr>\n",
       "    <tr>\n",
       "      <th>San Antonio Shopping Center</th>\n",
       "      <td>770.401356</td>\n",
       "    </tr>\n",
       "    <tr>\n",
       "      <th>San Francisco Caltrain (Townsend at 4th)</th>\n",
       "      <td>820.443702</td>\n",
       "    </tr>\n",
       "    <tr>\n",
       "      <th>San Francisco Caltrain 2 (330 Townsend)</th>\n",
       "      <td>686.798742</td>\n",
       "    </tr>\n",
       "    <tr>\n",
       "      <th>San Francisco City Hall</th>\n",
       "      <td>1661.568316</td>\n",
       "    </tr>\n",
       "    <tr>\n",
       "      <th>San Jose City Hall</th>\n",
       "      <td>1103.718069</td>\n",
       "    </tr>\n",
       "    <tr>\n",
       "      <th>San Jose Civic Center</th>\n",
       "      <td>2518.765828</td>\n",
       "    </tr>\n",
       "    <tr>\n",
       "      <th>San Jose Diridon Caltrain Station</th>\n",
       "      <td>713.464751</td>\n",
       "    </tr>\n",
       "    <tr>\n",
       "      <th>San Jose Government Center</th>\n",
       "      <td>1091.333333</td>\n",
       "    </tr>\n",
       "    <tr>\n",
       "      <th>San Mateo County Center</th>\n",
       "      <td>2777.008811</td>\n",
       "    </tr>\n",
       "    <tr>\n",
       "      <th>San Pedro Square</th>\n",
       "      <td>971.257538</td>\n",
       "    </tr>\n",
       "    <tr>\n",
       "      <th>San Salvador at 1st</th>\n",
       "      <td>1141.303623</td>\n",
       "    </tr>\n",
       "    <tr>\n",
       "      <th>Santa Clara County Civic Center</th>\n",
       "      <td>1105.074499</td>\n",
       "    </tr>\n",
       "    <tr>\n",
       "      <th>Santa Clara at Almaden</th>\n",
       "      <td>833.773949</td>\n",
       "    </tr>\n",
       "    <tr>\n",
       "      <th>South Van Ness at Market</th>\n",
       "      <td>931.726091</td>\n",
       "    </tr>\n",
       "    <tr>\n",
       "      <th>Spear at Folsom</th>\n",
       "      <td>768.070576</td>\n",
       "    </tr>\n",
       "    <tr>\n",
       "      <th>St James Park</th>\n",
       "      <td>817.023495</td>\n",
       "    </tr>\n",
       "    <tr>\n",
       "      <th>Stanford in Redwood City</th>\n",
       "      <td>1226.269886</td>\n",
       "    </tr>\n",
       "    <tr>\n",
       "      <th>Steuart at Market</th>\n",
       "      <td>911.793054</td>\n",
       "    </tr>\n",
       "    <tr>\n",
       "      <th>Temporary Transbay Terminal (Howard at Beale)</th>\n",
       "      <td>640.666931</td>\n",
       "    </tr>\n",
       "    <tr>\n",
       "      <th>Townsend at 7th</th>\n",
       "      <td>661.094410</td>\n",
       "    </tr>\n",
       "    <tr>\n",
       "      <th>University and Emerson</th>\n",
       "      <td>4843.370188</td>\n",
       "    </tr>\n",
       "    <tr>\n",
       "      <th>Washington at Kearney</th>\n",
       "      <td>1838.426065</td>\n",
       "    </tr>\n",
       "    <tr>\n",
       "      <th>Washington at Kearny</th>\n",
       "      <td>1591.162239</td>\n",
       "    </tr>\n",
       "    <tr>\n",
       "      <th>Yerba Buena Center of the Arts (3rd @ Howard)</th>\n",
       "      <td>919.972071</td>\n",
       "    </tr>\n",
       "  </tbody>\n",
       "</table>\n",
       "<p>74 rows × 1 columns</p>\n",
       "</div>"
      ],
      "text/plain": [
       "                                                  duration\n",
       "                                                      mean\n",
       "start_station_name                                        \n",
       "2nd at Folsom                                   556.020567\n",
       "2nd at South Park                               684.895163\n",
       "2nd at Townsend                                 755.608858\n",
       "5th at Howard                                   895.687517\n",
       "Adobe on Almaden                                869.067961\n",
       "Arena Green / SAP Center                       1332.666947\n",
       "Beale at Market                                 837.359614\n",
       "Broadway St at Battery St                       793.401409\n",
       "Broadway at Main                               2753.763636\n",
       "California Ave Caltrain Station                2841.221818\n",
       "Castro Street and El Camino Real               1439.077286\n",
       "Civic Center BART (7th at Market)              1083.930360\n",
       "Clay at Battery                                1014.382613\n",
       "Commercial at Montgomery                        766.900900\n",
       "Cowper at University                           1514.630113\n",
       "Davis at Jackson                                887.165541\n",
       "Embarcadero at Bryant                           980.158071\n",
       "Embarcadero at Folsom                           817.279174\n",
       "Embarcadero at Sansome                         1381.101666\n",
       "Embarcadero at Vallejo                         1619.844036\n",
       "Evelyn Park and Ride                           1219.428155\n",
       "Franklin at Maple                              1749.553672\n",
       "Golden Gate at Polk                            1160.821216\n",
       "Grant Avenue at Columbus Avenue                1089.419107\n",
       "Harry Bridges Plaza (Ferry Building)           1381.020905\n",
       "Howard at 2nd                                   689.311978\n",
       "Japantown                                      1549.655061\n",
       "MLK Library                                    1349.083032\n",
       "Market at 10th                                  915.896897\n",
       "Market at 4th                                  1228.209900\n",
       "...                                                    ...\n",
       "Redwood City Public Library                    3821.929412\n",
       "Rengstorff Avenue / California Street          2221.436893\n",
       "Ryland Park                                    1043.378285\n",
       "SJSU - San Salvador at 9th                     1339.468439\n",
       "SJSU 4th at San Carlos                         1211.221286\n",
       "San Antonio Caltrain Station                   1871.777913\n",
       "San Antonio Shopping Center                     770.401356\n",
       "San Francisco Caltrain (Townsend at 4th)        820.443702\n",
       "San Francisco Caltrain 2 (330 Townsend)         686.798742\n",
       "San Francisco City Hall                        1661.568316\n",
       "San Jose City Hall                             1103.718069\n",
       "San Jose Civic Center                          2518.765828\n",
       "San Jose Diridon Caltrain Station               713.464751\n",
       "San Jose Government Center                     1091.333333\n",
       "San Mateo County Center                        2777.008811\n",
       "San Pedro Square                                971.257538\n",
       "San Salvador at 1st                            1141.303623\n",
       "Santa Clara County Civic Center                1105.074499\n",
       "Santa Clara at Almaden                          833.773949\n",
       "South Van Ness at Market                        931.726091\n",
       "Spear at Folsom                                 768.070576\n",
       "St James Park                                   817.023495\n",
       "Stanford in Redwood City                       1226.269886\n",
       "Steuart at Market                               911.793054\n",
       "Temporary Transbay Terminal (Howard at Beale)   640.666931\n",
       "Townsend at 7th                                 661.094410\n",
       "University and Emerson                         4843.370188\n",
       "Washington at Kearney                          1838.426065\n",
       "Washington at Kearny                           1591.162239\n",
       "Yerba Buena Center of the Arts (3rd @ Howard)   919.972071\n",
       "\n",
       "[74 rows x 1 columns]"
      ]
     },
     "execution_count": 8,
     "metadata": {},
     "output_type": "execute_result"
    }
   ],
   "source": [
    "trips.loc[:,['start_station_name','duration']].groupby('start_station_name').agg([np.mean])"
   ]
  },
  {
   "cell_type": "code",
   "execution_count": 23,
   "metadata": {
    "collapsed": false
   },
   "outputs": [
    {
     "data": {
      "text/plain": [
       "<matplotlib.axes._subplots.AxesSubplot at 0x7fd8d69c7a50>"
      ]
     },
     "execution_count": 23,
     "metadata": {},
     "output_type": "execute_result"
    },
    {
     "data": {
      "image/png": "[encoded data removed]",
      "text/plain": [
       "<matplotlib.figure.Figure at 0x7fd8d6595250>"
      ]
     },
     "metadata": {},
     "output_type": "display_data"
    }
   ],
   "source": [
    "trips_by_city = trips.loc[:,['start_station_id','duration']].tail(80000)\n",
    "trips_by_city.columns = ['id','duration']\n",
    "trips_by_city = pd.merge(trips_by_city,stations,on='id',how='inner')\n",
    "trips_by_city.loc[:,['duration','city']].groupby('city').agg([np.mean]).plot(kind='bar',figsize=(14,7))"
   ]
  },
  {
   "cell_type": "code",
   "execution_count": 10,
   "metadata": {
    "collapsed": false
   },
   "outputs": [
    {
     "data": {
      "text/html": [
       "<div>\n",
       "<table border=\"1\" class=\"dataframe\">\n",
       "  <thead>\n",
       "    <tr style=\"text-align: right;\">\n",
       "      <th></th>\n",
       "      <th>id</th>\n",
       "      <th>duration</th>\n",
       "      <th>lat</th>\n",
       "      <th>long</th>\n",
       "      <th>dock_count</th>\n",
       "    </tr>\n",
       "  </thead>\n",
       "  <tbody>\n",
       "    <tr>\n",
       "      <th>count</th>\n",
       "      <td>841.000000</td>\n",
       "      <td>841.000000</td>\n",
       "      <td>841.000000</td>\n",
       "      <td>841.000000</td>\n",
       "      <td>841.000000</td>\n",
       "    </tr>\n",
       "    <tr>\n",
       "      <th>mean</th>\n",
       "      <td>35.543401</td>\n",
       "      <td>2887.313912</td>\n",
       "      <td>37.440992</td>\n",
       "      <td>-122.157327</td>\n",
       "      <td>15.960761</td>\n",
       "    </tr>\n",
       "    <tr>\n",
       "      <th>std</th>\n",
       "      <td>1.400113</td>\n",
       "      <td>8166.573190</td>\n",
       "      <td>0.007919</td>\n",
       "      <td>0.009849</td>\n",
       "      <td>5.196119</td>\n",
       "    </tr>\n",
       "    <tr>\n",
       "      <th>min</th>\n",
       "      <td>34.000000</td>\n",
       "      <td>66.000000</td>\n",
       "      <td>37.425684</td>\n",
       "      <td>-122.164759</td>\n",
       "      <td>11.000000</td>\n",
       "    </tr>\n",
       "    <tr>\n",
       "      <th>25%</th>\n",
       "      <td>34.000000</td>\n",
       "      <td>293.000000</td>\n",
       "      <td>37.443988</td>\n",
       "      <td>-122.164759</td>\n",
       "      <td>11.000000</td>\n",
       "    </tr>\n",
       "    <tr>\n",
       "      <th>50%</th>\n",
       "      <td>35.000000</td>\n",
       "      <td>870.000000</td>\n",
       "      <td>37.443988</td>\n",
       "      <td>-122.163093</td>\n",
       "      <td>15.000000</td>\n",
       "    </tr>\n",
       "    <tr>\n",
       "      <th>75%</th>\n",
       "      <td>37.000000</td>\n",
       "      <td>2085.000000</td>\n",
       "      <td>37.444521</td>\n",
       "      <td>-122.159504</td>\n",
       "      <td>23.000000</td>\n",
       "    </tr>\n",
       "    <tr>\n",
       "      <th>max</th>\n",
       "      <td>38.000000</td>\n",
       "      <td>82287.000000</td>\n",
       "      <td>37.448598</td>\n",
       "      <td>-122.137777</td>\n",
       "      <td>23.000000</td>\n",
       "    </tr>\n",
       "  </tbody>\n",
       "</table>\n",
       "</div>"
      ],
      "text/plain": [
       "               id      duration         lat        long  dock_count\n",
       "count  841.000000    841.000000  841.000000  841.000000  841.000000\n",
       "mean    35.543401   2887.313912   37.440992 -122.157327   15.960761\n",
       "std      1.400113   8166.573190    0.007919    0.009849    5.196119\n",
       "min     34.000000     66.000000   37.425684 -122.164759   11.000000\n",
       "25%     34.000000    293.000000   37.443988 -122.164759   11.000000\n",
       "50%     35.000000    870.000000   37.443988 -122.163093   15.000000\n",
       "75%     37.000000   2085.000000   37.444521 -122.159504   23.000000\n",
       "max     38.000000  82287.000000   37.448598 -122.137777   23.000000"
      ]
     },
     "execution_count": 10,
     "metadata": {},
     "output_type": "execute_result"
    }
   ],
   "source": [
    "palo_alto = trips_by_city.loc[trips_by_city.city == 'Palo Alto',:]\n",
    "palo_alto.describe()"
   ]
  },
  {
   "cell_type": "code",
   "execution_count": 11,
   "metadata": {
    "collapsed": true
   },
   "outputs": [],
   "source": [
    "weather = weather.loc[:,['date','mean_temperature_f']].groupby('date').mean()"
   ]
  },
  {
   "cell_type": "code",
   "execution_count": 12,
   "metadata": {
    "collapsed": false
   },
   "outputs": [],
   "source": [
    "weather = pd.DataFrame(weather.to_records())"
   ]
  },
  {
   "cell_type": "code",
   "execution_count": 13,
   "metadata": {
    "collapsed": true
   },
   "outputs": [],
   "source": [
    "weather.date = pd.to_datetime(weather.date)"
   ]
  },
  {
   "cell_type": "code",
   "execution_count": 22,
   "metadata": {
    "collapsed": false
   },
   "outputs": [
    {
     "data": {
      "text/plain": [
       "<matplotlib.axes._subplots.AxesSubplot at 0x7fd8d67bcf90>"
      ]
     },
     "execution_count": 22,
     "metadata": {},
     "output_type": "execute_result"
    },
    {
     "data": {
      "image/png": "[encoded data removed]",
      "text/plain": [
       "<matplotlib.figure.Figure at 0x7fd8d6995250>"
      ]
     },
     "metadata": {},
     "output_type": "display_data"
    }
   ],
   "source": [
    "trips.loc[:,['duration','subscription_type']].groupby('subscription_type').mean().plot(kind='bar',figsize=(12,6))"
   ]
  },
  {
   "cell_type": "code",
   "execution_count": 17,
   "metadata": {
    "collapsed": true
   },
   "outputs": [],
   "source": [
    "duration_by_hour = trips.loc[:,['start_date','duration']]"
   ]
  },
  {
   "cell_type": "code",
   "execution_count": 18,
   "metadata": {
    "collapsed": false
   },
   "outputs": [],
   "source": [
    "duration_by_hour.start_date = pd.to_datetime(duration_by_hour.start_date)"
   ]
  },
  {
   "cell_type": "code",
   "execution_count": 19,
   "metadata": {
    "collapsed": false
   },
   "outputs": [],
   "source": [
    "duration_by_hour['hour'] = duration_by_hour.start_date.apply(lambda x: x.hour)"
   ]
  },
  {
   "cell_type": "code",
   "execution_count": 20,
   "metadata": {
    "collapsed": false
   },
   "outputs": [
    {
     "data": {
      "text/plain": [
       "<matplotlib.axes._subplots.AxesSubplot at 0x7fd8d6955610>"
      ]
     },
     "execution_count": 20,
     "metadata": {},
     "output_type": "execute_result"
    },
    {
     "data": {
      "image/png": "[encoded data removed]",
      "text/plain": [
       "<matplotlib.figure.Figure at 0x7fd8d6adbd90>"
      ]
     },
     "metadata": {},
     "output_type": "display_data"
    }
   ],
   "source": [
    "duration_by_hour.loc[:,['duration','hour']].groupby('hour').agg([np.mean]).head(80000).plot(kind='bar',figsize=(15,8))"
   ]
  },
  {
   "cell_type": "code",
   "execution_count": null,
   "metadata": {
    "collapsed": true
   },
   "outputs": [],
   "source": []
  }
 ],
 "metadata": {
  "kernelspec": {
   "display_name": "Python 2",
   "language": "python",
   "name": "python2"
  },
  "language_info": {
   "codemirror_mode": {
    "name": "ipython",
    "version": 2
   },
   "file_extension": ".py",
   "mimetype": "text/x-python",
   "name": "python",
   "nbconvert_exporter": "python",
   "pygments_lexer": "ipython2",
   "version": "2.7.13"
  }
 },
 "nbformat": 4,
 "nbformat_minor": 2
}
